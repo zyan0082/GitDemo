{
 "cells": [
  {
   "cell_type": "markdown",
   "id": "0e30aeb1",
   "metadata": {},
   "source": [
    "## <span style=\"color:#0b486b\">Part 3: Convolutional Neural Networks and Image Classification</span>\n",
    "\n",
    "**<div style=\"text-align: right\"><span style=\"color:red\">[Total marks for this part: 40 points]</span></div>**"
   ]
  },
  {
   "cell_type": "markdown",
   "id": "c8549492",
   "metadata": {},
   "source": [
    "**This part of the asssignment is designed to assess your knowledge and coding skill with Tensorflow as well as hands-on experience with training Convolutional Neural Network (CNN).**"
   ]
  },
  {
   "cell_type": "markdown",
   "id": "1b871bdb",
   "metadata": {},
   "source": [
    "**The dataset we use for this part is a small animal dataset consisting of $5,000$ images of cats, dogs, fishes, lions, chickens, elephants, butterflies, cows, spiders, and horses, each of which has 500 images. You can download the dataset at [download here](https://drive.google.com/file/d/1bEwEx72lLrjY_Idj_FgV22atIdjtCV66/view?usp=sharing) and then decompress to the folder `datasets\\Animals` in your assignment folder.**\n",
    "\n",
    "**Your task is to build a CNN model using *TF 2.x* to classify these animals. You're provided with the module <span style=\"color:red\">models.py</span>, which you can find in the assignment folder, with some of the following classes:**"
   ]
  },
  {
   "cell_type": "markdown",
   "id": "e6146a60",
   "metadata": {},
   "source": [
    "1. `AnimalsDatasetManager`: Support with loading and spliting the dataset into the train-val-test sets. It also supports generating next batches for training. `AnimalsDatasetManager` will be passed to CNN model for training and testing.\n",
    "2. `DefaultModel`: A base class for the CNN model.\n",
    "3. `YourModel`: The class you'll need to implement for building your CNN model. It inherits some useful attributes and functions from the base class `DefaultModel`"
   ]
  },
  {
   "cell_type": "markdown",
   "id": "ce427296",
   "metadata": {},
   "source": [
    "Firstly, we need to run the following cells to load and preprocess the Animal dataset."
   ]
  },
  {
   "cell_type": "code",
   "execution_count": 1,
   "id": "8ab5f59d",
   "metadata": {},
   "outputs": [],
   "source": [
    "%load_ext autoreload\n",
    "%autoreload 2"
   ]
  },
  {
   "cell_type": "markdown",
   "id": "2cf6edbc",
   "metadata": {},
   "source": [
    "Install the package `imutils` if you have not installed yet"
   ]
  },
  {
   "cell_type": "code",
   "execution_count": 2,
   "id": "f0f66a0c",
   "metadata": {},
   "outputs": [
    {
     "name": "stdout",
     "output_type": "stream",
     "text": [
      "Requirement already satisfied: imutils in d:\\jupyter\\envs\\tf2_cpu\\lib\\site-packages (0.5.4)\n"
     ]
    }
   ],
   "source": [
    "! pip install imutils"
   ]
  },
  {
   "cell_type": "code",
   "execution_count": 3,
   "id": "c3847ed0",
   "metadata": {},
   "outputs": [
    {
     "name": "stdout",
     "output_type": "stream",
     "text": [
      "Requirement already satisfied: opencv-python in d:\\jupyter\\envs\\tf2_cpu\\lib\\site-packages (4.6.0.66)\n",
      "Requirement already satisfied: numpy>=1.17.3 in d:\\jupyter\\envs\\tf2_cpu\\lib\\site-packages (from opencv-python) (1.21.5)\n",
      "Note: you may need to restart the kernel to use updated packages.\n"
     ]
    }
   ],
   "source": [
    "pip install opencv-python"
   ]
  },
  {
   "cell_type": "code",
   "execution_count": 4,
   "id": "c2e956d7",
   "metadata": {},
   "outputs": [],
   "source": [
    "import os\n",
    "import matplotlib.pyplot as plt\n",
    "plt.style.use('ggplot')\n",
    "%matplotlib inline\n",
    "import models\n",
    "from models import SimplePreprocessor, AnimalsDatasetManager, DefaultModel"
   ]
  },
  {
   "cell_type": "code",
   "execution_count": 5,
   "id": "0182da5d",
   "metadata": {},
   "outputs": [],
   "source": [
    "def create_label_folder_dict(adir):\n",
    "    sub_folders= [folder for folder in os.listdir(adir)\n",
    "                  if os.path.isdir(os.path.join(adir, folder))]\n",
    "    label_folder_dict= dict()\n",
    "    for folder in sub_folders:\n",
    "        item= {folder: os.path.abspath(os.path.join(adir, folder))}\n",
    "        label_folder_dict.update(item)\n",
    "    return label_folder_dict"
   ]
  },
  {
   "cell_type": "code",
   "execution_count": 6,
   "id": "7b35bc90",
   "metadata": {},
   "outputs": [],
   "source": [
    "label_folder_dict= create_label_folder_dict(\"./datasets/Animals\")"
   ]
  },
  {
   "cell_type": "markdown",
   "id": "e9f65582",
   "metadata": {},
   "source": [
    "The below code helps to create a data manager that contains all relevant methods used to manage and process the experimental data. "
   ]
  },
  {
   "cell_type": "code",
   "execution_count": 7,
   "id": "1194eb6b",
   "metadata": {},
   "outputs": [
    {
     "name": "stdout",
     "output_type": "stream",
     "text": [
      "butterfiles 500\n",
      "Processed 100/500\n",
      "Processed 200/500\n",
      "Processed 300/500\n",
      "Processed 400/500\n",
      "Processed 500/500\n",
      "cats 501\n",
      "Processed 100/500\n",
      "Processed 200/500\n",
      "Processed 300/500\n",
      "Processed 400/500\n",
      "Processed 500/500\n",
      "chickens 500\n",
      "Processed 100/500\n",
      "Processed 200/500\n",
      "Processed 300/500\n",
      "Processed 400/500\n",
      "Processed 500/500\n",
      "cows 500\n",
      "Processed 100/500\n",
      "Processed 200/500\n",
      "Processed 300/500\n",
      "Processed 400/500\n",
      "Processed 500/500\n",
      "dogs 501\n",
      "Processed 100/500\n",
      "Processed 200/500\n",
      "Processed 300/500\n",
      "Processed 400/500\n",
      "Processed 500/500\n",
      "elephants 500\n",
      "Processed 100/500\n",
      "Processed 200/500\n",
      "Processed 300/500\n",
      "Processed 400/500\n",
      "Processed 500/500\n",
      "fishes 500\n",
      "Processed 100/500\n",
      "Processed 200/500\n",
      "Processed 300/500\n",
      "Processed 400/500\n",
      "Processed 500/500\n",
      "horses 500\n",
      "Processed 100/500\n",
      "Processed 200/500\n",
      "Processed 300/500\n",
      "Processed 400/500\n",
      "Processed 500/500\n",
      "lions 500\n",
      "Processed 100/500\n",
      "Processed 200/500\n",
      "Processed 300/500\n",
      "Processed 400/500\n",
      "Processed 500/500\n",
      "spiders 500\n",
      "Processed 100/500\n",
      "Processed 200/500\n",
      "Processed 300/500\n",
      "Processed 400/500\n",
      "Processed 500/500\n"
     ]
    }
   ],
   "source": [
    "sp = SimplePreprocessor(width=32, height=32)\n",
    "data_manager = AnimalsDatasetManager([sp])\n",
    "data_manager.load(label_folder_dict, verbose=100)\n",
    "data_manager.process_data_label()\n",
    "data_manager.train_valid_test_split()"
   ]
  },
  {
   "cell_type": "markdown",
   "id": "bfa00532",
   "metadata": {},
   "source": [
    "Note that the object `data_manager` has the attributes relating to *the training, validation, and testing sets* as shown belows. You can use them in training your developped models in the sequel."
   ]
  },
  {
   "cell_type": "code",
   "execution_count": 8,
   "id": "8b5de12f",
   "metadata": {},
   "outputs": [
    {
     "name": "stdout",
     "output_type": "stream",
     "text": [
      "(4000, 32, 32, 3) (4000,)\n",
      "(500, 32, 32, 3) (500,)\n",
      "(500, 32, 32, 3) (500,)\n",
      "['butterfiles' 'cats' 'chickens' 'cows' 'dogs' 'elephants' 'fishes'\n",
      " 'horses' 'lions' 'spiders']\n"
     ]
    }
   ],
   "source": [
    "print(data_manager.X_train.shape, data_manager.y_train.shape)\n",
    "print(data_manager.X_valid.shape, data_manager.y_valid.shape)\n",
    "print(data_manager.X_test.shape, data_manager.y_test.shape)\n",
    "print(data_manager.classes)"
   ]
  },
  {
   "cell_type": "markdown",
   "id": "29279998",
   "metadata": {},
   "source": [
    "We now run the **default model** built in the **models.py** file which serves as a basic baseline to start the investigation. Follow the following steps to realize how to run a model and know the built-in methods associated to a model developped in the DefaultModel class."
   ]
  },
  {
   "cell_type": "markdown",
   "id": "cacf78bc",
   "metadata": {},
   "source": [
    "We first initialize a default model from the DefaultModel class. Basically, we can define the relevant parameters of training a model including `num_classes`, `optimizer`, `learning_rate`, `batch_size`, and `num_epochs`."
   ]
  },
  {
   "cell_type": "code",
   "execution_count": 9,
   "id": "38afd460",
   "metadata": {},
   "outputs": [],
   "source": [
    "network1 = DefaultModel(name='network1',\n",
    "                       num_classes=len(data_manager.classes),\n",
    "                       optimizer='sgd',\n",
    "                       batch_size= 128,\n",
    "                       num_epochs = 20,\n",
    "                       learning_rate=0.5)"
   ]
  },
  {
   "cell_type": "markdown",
   "id": "2a0abc95",
   "metadata": {},
   "source": [
    "The method `build_cnn()` assists us in building your convolutional neural network. You can view the code (in the **models.py** file) of the model behind a default model to realize how simple it is. Additionally, the method `summary()` shows the architecture of a model."
   ]
  },
  {
   "cell_type": "code",
   "execution_count": 10,
   "id": "dd87bed0",
   "metadata": {},
   "outputs": [
    {
     "name": "stdout",
     "output_type": "stream",
     "text": [
      "Model: \"sequential_1\"\n",
      "_________________________________________________________________\n",
      "Layer (type)                 Output Shape              Param #   \n",
      "=================================================================\n",
      "conv2d (Conv2D)              (None, 32, 32, 32)        896       \n",
      "_________________________________________________________________\n",
      "conv2d_1 (Conv2D)            (None, 32, 32, 32)        9248      \n",
      "_________________________________________________________________\n",
      "average_pooling2d (AveragePo (None, 16, 16, 32)        0         \n",
      "_________________________________________________________________\n",
      "conv2d_2 (Conv2D)            (None, 16, 16, 64)        18496     \n",
      "_________________________________________________________________\n",
      "conv2d_3 (Conv2D)            (None, 16, 16, 64)        36928     \n",
      "_________________________________________________________________\n",
      "average_pooling2d_1 (Average (None, 8, 8, 64)          0         \n",
      "_________________________________________________________________\n",
      "flatten (Flatten)            (None, 4096)              0         \n",
      "_________________________________________________________________\n",
      "dense (Dense)                (None, 10)                40970     \n",
      "=================================================================\n",
      "Total params: 106,538\n",
      "Trainable params: 106,538\n",
      "Non-trainable params: 0\n",
      "_________________________________________________________________\n",
      "None\n"
     ]
    }
   ],
   "source": [
    "network1.build_cnn()\n",
    "network1.summary()"
   ]
  },
  {
   "cell_type": "markdown",
   "id": "ed065fb8",
   "metadata": {},
   "source": [
    "To train a model regarding to the datasets stored in `data_manager`, you can invoke the method `fit()` for which you can specify the batch size and number of epochs for your training. "
   ]
  },
  {
   "cell_type": "code",
   "execution_count": 11,
   "id": "580f898c",
   "metadata": {},
   "outputs": [
    {
     "name": "stdout",
     "output_type": "stream",
     "text": [
      "Epoch 1/20\n",
      "63/63 [==============================] - 4s 67ms/step - loss: 2.3302 - accuracy: 0.1260 - val_loss: 2.3076 - val_accuracy: 0.0880\n",
      "Epoch 2/20\n",
      "63/63 [==============================] - 4s 66ms/step - loss: 2.3059 - accuracy: 0.0970 - val_loss: 2.3057 - val_accuracy: 0.0880\n",
      "Epoch 3/20\n",
      "63/63 [==============================] - 4s 67ms/step - loss: 2.2985 - accuracy: 0.1042 - val_loss: 2.3066 - val_accuracy: 0.0940\n",
      "Epoch 4/20\n",
      "63/63 [==============================] - 4s 67ms/step - loss: 2.2924 - accuracy: 0.1203 - val_loss: 2.3084 - val_accuracy: 0.0880\n",
      "Epoch 5/20\n",
      "63/63 [==============================] - 4s 68ms/step - loss: 2.3056 - accuracy: 0.0920 - val_loss: 2.3049 - val_accuracy: 0.0900\n",
      "Epoch 6/20\n",
      "63/63 [==============================] - 4s 67ms/step - loss: 2.3049 - accuracy: 0.0957 - val_loss: 2.3030 - val_accuracy: 0.1120\n",
      "Epoch 7/20\n",
      "63/63 [==============================] - 4s 67ms/step - loss: 2.3047 - accuracy: 0.0938 - val_loss: 2.3041 - val_accuracy: 0.1060\n",
      "Epoch 8/20\n",
      "63/63 [==============================] - 4s 66ms/step - loss: 2.3056 - accuracy: 0.0945 - val_loss: 2.3039 - val_accuracy: 0.1080\n",
      "Epoch 9/20\n",
      "63/63 [==============================] - 4s 66ms/step - loss: 2.3050 - accuracy: 0.0918 - val_loss: 2.3044 - val_accuracy: 0.0880\n",
      "Epoch 10/20\n",
      "63/63 [==============================] - 4s 68ms/step - loss: 2.3074 - accuracy: 0.1045 - val_loss: 2.3041 - val_accuracy: 0.0880\n",
      "Epoch 11/20\n",
      "63/63 [==============================] - 4s 67ms/step - loss: 2.3055 - accuracy: 0.0913 - val_loss: 2.3036 - val_accuracy: 0.1060\n",
      "Epoch 12/20\n",
      "63/63 [==============================] - 4s 66ms/step - loss: 2.3054 - accuracy: 0.0943 - val_loss: 2.3037 - val_accuracy: 0.0880\n",
      "Epoch 13/20\n",
      "63/63 [==============================] - 4s 66ms/step - loss: 2.3051 - accuracy: 0.0955 - val_loss: 2.3034 - val_accuracy: 0.1120\n",
      "Epoch 14/20\n",
      "63/63 [==============================] - 4s 67ms/step - loss: 2.3053 - accuracy: 0.0945 - val_loss: 2.3058 - val_accuracy: 0.0900\n",
      "Epoch 15/20\n",
      "63/63 [==============================] - 4s 66ms/step - loss: 2.3052 - accuracy: 0.0955 - val_loss: 2.3057 - val_accuracy: 0.1080\n",
      "Epoch 16/20\n",
      "63/63 [==============================] - 4s 66ms/step - loss: 2.3053 - accuracy: 0.0922 - val_loss: 2.3032 - val_accuracy: 0.1120\n",
      "Epoch 17/20\n",
      "63/63 [==============================] - 4s 66ms/step - loss: 2.3048 - accuracy: 0.1010 - val_loss: 2.3071 - val_accuracy: 0.0900\n",
      "Epoch 18/20\n",
      "63/63 [==============================] - 4s 68ms/step - loss: 2.3050 - accuracy: 0.0927 - val_loss: 2.3032 - val_accuracy: 0.0900\n",
      "Epoch 19/20\n",
      "63/63 [==============================] - 4s 66ms/step - loss: 2.3052 - accuracy: 0.0905 - val_loss: 2.3037 - val_accuracy: 0.0880\n",
      "Epoch 20/20\n",
      "63/63 [==============================] - 4s 67ms/step - loss: 2.3051 - accuracy: 0.0985 - val_loss: 2.3049 - val_accuracy: 0.0880\n"
     ]
    }
   ],
   "source": [
    "network1.fit(data_manager, batch_size = 64, num_epochs = 20)"
   ]
  },
  {
   "cell_type": "markdown",
   "id": "dde3b5c5",
   "metadata": {},
   "source": [
    "Here you can compute the accuracy of your trained model with respect to a separate testing set."
   ]
  },
  {
   "cell_type": "code",
   "execution_count": 12,
   "id": "24a7d2ca",
   "metadata": {},
   "outputs": [
    {
     "name": "stdout",
     "output_type": "stream",
     "text": [
      "8/8 [==============================] - 0s 10ms/step - loss: 2.3049 - accuracy: 0.1080\n"
     ]
    },
    {
     "data": {
      "text/plain": [
       "0.1080000028014183"
      ]
     },
     "execution_count": 12,
     "metadata": {},
     "output_type": "execute_result"
    }
   ],
   "source": [
    "network1.compute_accuracy(data_manager.X_test, data_manager.y_test)"
   ]
  },
  {
   "cell_type": "markdown",
   "id": "2b50ca54",
   "metadata": {},
   "source": [
    "Below shows how you can inspect the training progress."
   ]
  },
  {
   "cell_type": "code",
   "execution_count": 13,
   "id": "14ec4b3d",
   "metadata": {},
   "outputs": [
    {
     "data": {
      "image/png": "[encoded data removed]",
      "text/plain": [
       "<Figure size 640x480 with 2 Axes>"
      ]
     },
     "metadata": {},
     "output_type": "display_data"
    }
   ],
   "source": [
    "network1.plot_progress()"
   ]
  },
  {
   "cell_type": "markdown",
   "id": "c3545968",
   "metadata": {},
   "source": [
    "You can use the method `predict()` to predict labels for data examples in a test set."
   ]
  },
  {
   "cell_type": "code",
   "execution_count": 14,
   "id": "28cbfa68",
   "metadata": {},
   "outputs": [
    {
     "data": {
      "text/plain": [
       "array([0, 0, 0, 0, 0, 0, 0, 0, 0, 0], dtype=int64)"
      ]
     },
     "execution_count": 14,
     "metadata": {},
     "output_type": "execute_result"
    }
   ],
   "source": [
    "network1.predict(data_manager.X_test[0:10])"
   ]
  },
  {
   "cell_type": "markdown",
   "id": "06f92113",
   "metadata": {},
   "source": [
    "Finally, the method `plot_prediction()` visualizes the predictions for a test set in which several images are chosen to show the predictions."
   ]
  },
  {
   "cell_type": "code",
   "execution_count": 15,
   "id": "3b8be7c6",
   "metadata": {},
   "outputs": [
    {
     "data": {
      "text/plain": [
       "<Figure size 640x480 with 0 Axes>"
      ]
     },
     "metadata": {},
     "output_type": "display_data"
    },
    {
     "data": {
      "image/png": "[encoded data removed]",
      "text/plain": [
       "<Figure size 1250x1250 with 25 Axes>"
      ]
     },
     "metadata": {},
     "output_type": "display_data"
    }
   ],
   "source": [
    "network1.plot_prediction(data_manager.X_test, data_manager.y_test, data_manager.classes)"
   ]
  },
  {
   "cell_type": "markdown",
   "id": "df7bbf16",
   "metadata": {},
   "source": [
    "<span style=\"color:red\">**Question 3.1**</span> **After running the above cells to train the default model and observe the learning curve. Report your observation (i.e. did the model learn well? if not, what is the problem? What would you do to improve it?). Write your answer below.**\n",
    "\n",
    "<div style=\"text-align: right\"> <span style=\"color:red\">[4 points]</span> </div>"
   ]
  },
  {
   "cell_type": "markdown",
   "id": "15821ba9",
   "metadata": {},
   "source": [
    "From the output of the model and the accuracy and loss curves, we can see that this model's learning effect is not satisfactory. For this model, the learning rate is set to 0.5, it is too high for the deep learing model, so to make a better model we can reducing the learning rate.\n",
    "\n"
   ]
  },
  {
   "cell_type": "markdown",
   "id": "d99313d6",
   "metadata": {},
   "source": [
    "**For questions 3.2 to 3.9, you'll need to write your own model in a way that makes it easy for you to experiment with different architectures and parameters. The goal is to be able to pass the parameters to initialize a new instance of `YourModel` to build different network architectures with different parameters. Below are descriptions of some parameters for `YourModel`, which you can find in function `__init__()` for the class `DefaultModel`:**"
   ]
  },
  {
   "cell_type": "markdown",
   "id": "1685dc36",
   "metadata": {},
   "source": [
    "1. `num_blocks`: an integer specifying the number of blocks in our network. Each block has the pattern `[conv, batch norm, activation, conv, batch norm, activation, mean pool, dropout]`. All convolutional layers have filter size $(3, 3)$, strides $(1, 1)$ and 'SAME' padding, and all mean pool layers have strides $(2, 2)$ and 'SAME' padding. The network will consists of a few blocks before applying a linear layer to output the logits for the softmax layer.\n",
    "\n",
    "2. `feature_maps`: the number of feature maps in the first block of the network. The number of feature_maps will double in each of the following block. To make it convenient for you, we already calculated the number of feature maps for each block for you in line $106$\n",
    "3. `drop_rate`: the keep probability for dropout. Setting `drop_rate` to $0.0$ means not using dropout. \n",
    "4. `batch_norm`: the batch normalization function is used or not. Setting `batch_norm` to `None` means not using batch normalization. \n",
    "5. The `skip connection` is added to the output of the second `batch norm`. Additionally, your class has a boolean property (i.e., instance variable) named `use_skip`. If `use_skip=True`, the skip connectnion is enable. Otherwise, if `use_skip=False`, the skip connectnion is disable.\n",
    "\n",
    "Below is the architecture of one block:\n",
    "\n",
    "<img src=\"Figures/OneBlock.png\" width=\"350\" align=\"center\"/>\n",
    "\n",
    "Below is the architecture of the entire deep net with `two blocks`:\n",
    "\n",
    "<img src=\"Figures/NetworkArchitecture.png\" width=\"1200\" align=\"center\"/>"
   ]
  },
  {
   "cell_type": "markdown",
   "id": "c688e7a0",
   "metadata": {},
   "source": [
    "Here we assume that the first block has `feature_maps = feature_maps[0] = 32`. Note that the initial number of feature maps of the first block is declared in the instance variable `feature_maps` and is multiplied by $2$ in each follpwing block. "
   ]
  },
  {
   "cell_type": "code",
   "execution_count": 48,
   "id": "2afec50b",
   "metadata": {},
   "outputs": [],
   "source": [
    "import tensorflow as tf\n",
    "from tensorflow import keras\n",
    "from tensorflow.keras import layers, models"
   ]
  },
  {
   "cell_type": "code",
   "execution_count": 49,
   "id": "f03cf1c5",
   "metadata": {},
   "outputs": [],
   "source": [
    "tf.random.set_seed(1234)"
   ]
  },
  {
   "cell_type": "markdown",
   "id": "b1085829",
   "metadata": {},
   "source": [
    "<span style=\"color:red\">**Question 3.2**</span> **Write the code of the `YourModel` class here. Note that this class will inherit from the `DefaultModel` class. You'll only need to re-write the code for the `build_cnn` method in the `YourModel` class from the cell below. Note that the `YourModel` class   is inherited from the `DefaultModel` class.**\n",
    "\n",
    "<div style=\"text-align: right\"> <span style=\"color:red\">[4 points]</span> </div>"
   ]
  },
  {
   "cell_type": "code",
   "execution_count": null,
   "id": "001cf63c",
   "metadata": {},
   "outputs": [
    {
     "ename": "",
     "evalue": "",
     "output_type": "error",
     "traceback": [
      "\u001b[1;31mRunning cells with 'Python 3.10.4 ('cvml')' requires ipykernel package.\n",
      "\u001b[1;31mRun the following command to install 'ipykernel' into the Python environment. \n",
      "\u001b[1;31mCommand: 'conda install -n cvml ipykernel --update-deps --force-reinstall'"
     ]
    }
   ],
   "source": [
    "from keras.layers import Input, Dense, Add   \n",
    "class YourModel(DefaultModel):\n",
    "    def __init__(self,\n",
    "                 name='network1',\n",
    "                 width=32, height=32, depth=3,\n",
    "                 num_blocks=2,\n",
    "                 feature_maps=32,\n",
    "                 num_classes=4, \n",
    "                 drop_rate=0.2,\n",
    "                 batch_norm = None,\n",
    "                 is_augmentation = False,\n",
    "                 activation_func='relu',\n",
    "                 use_skip = True,\n",
    "                 optimizer='adam',\n",
    "                 batch_size=10,\n",
    "                 num_epochs= 20,\n",
    "                 learning_rate=0.0001,\n",
    "                 verbose= True):\n",
    "        super(YourModel, self).__init__(name, width, height, depth, num_blocks, feature_maps, num_classes, drop_rate, batch_norm, is_augmentation, \n",
    "                                        activation_func, use_skip, optimizer, batch_size, num_epochs, learning_rate, verbose)\n",
    "\n",
    "    def build_cnn(self):\n",
    "            #Insert your code here\n",
    "            def conv(x, filters):\n",
    "                return layers.Conv2D(filters, (3,3), padding='same')(x)\n",
    "            \n",
    "            def bn(x):\n",
    "                ...\n",
    "            \n",
    "            inputs=Input(shape=(32, 32, 3))\n",
    "            for i in range(self.num_blocks):\n",
    "                if i==0:\n",
    "                    M=conv(inputs, self.feature_maps[i])\n",
    "                    # M=layers.Conv2D(self.feature_maps[i], (3,3), padding='same')(inputs)\n",
    "                    x=layers.Conv2D(self.feature_maps[i], (3,3), padding='same')(inputs)\n",
    "                else:\n",
    "                    M=layers.Conv2D(self.feature_maps[i], (3,3), padding='same')(M)\n",
    "                    x=layers.Conv2D(self.feature_maps[i], (3,3), padding='same')(M)\n",
    "                if self.batch_norm:\n",
    "                    M=layers.BatchNormalization(momentum=0.9)(M)\n",
    "                    M=layers.Activation(self.activation_func)(M)\n",
    "                    M=layers.Conv2D(self.feature_maps[i], (3,3), padding='same')(M)\n",
    "                    y=layers.BatchNormalization(momentum=0.9)(M)\n",
    "                    M=layers.BatchNormalization(momentum=0.9)(M)\n",
    "                    if self.use_skip:\n",
    "                        x=layers.Add()([x, y])\n",
    "                        M=layers.Activation(self.activation_func)(x)\n",
    "                        M=layers.AveragePooling2D(pool_size=(2, 2), padding='same')(M)\n",
    "                        M=layers.Dropout(rate=self.drop_rate)(M)\n",
    "                if not self.batch_norm:\n",
    "                    z=layers.Conv2D(self.feature_maps[i], (3,3), padding='same')(M)\n",
    "                    if self.use_skip:\n",
    "                        x=layers.Add()([x, z])\n",
    "                        M=layers.Activation(self.activation_func)(x)\n",
    "                        M=layers.AveragePooling2D(pool_size=(2, 2), padding='same')(M)\n",
    "                        M=layers.Dropout(rate=self.drop_rate)(M)\n",
    "            M=layers.Flatten()(M)\n",
    "            M=layers.Dense(self.num_classes, activation='softmax')(M)\n",
    "            self.model=M\n",
    "            self.model=tf.keras.Model(inputs,M)\n",
    "            self.model.compile(optimizer=self.optimizer, loss='sparse_categorical_crossentropy', metrics=['accuracy'])\n",
    "            "
   ]
  },
  {
   "cell_type": "markdown",
   "id": "76e0baa9",
   "metadata": {},
   "source": [
    "<span style=\"color:red\">**Question 3.3**</span> **Once writing your own model, you need to compare two cases: (i) *using the skip connection* and (ii) *not using the skip connection*. You should set the instance variable `use_skip` to either `True` or `False`. For your runs, report which case is better and if you confront overfitting in training.**\n",
    "    \n",
    "<div style=\"text-align: right\"> <span style=\"color:red\">[6 points]</span> </div>"
   ]
  },
  {
   "cell_type": "markdown",
   "id": "5fbe5fa1",
   "metadata": {},
   "source": [
    "#*Write your report and observation here*\n",
    "\n",
    "After running two different cases, we found that for both skip connection and no skip connection, the testing accuracy is lower than the train accuracy. So they are both overfitting, but the testing accuracy of use skip coinnection is better than not use.\n",
    "\n",
    "\n"
   ]
  },
  {
   "cell_type": "code",
   "execution_count": 51,
   "id": "7afc0202",
   "metadata": {},
   "outputs": [
    {
     "name": "stdout",
     "output_type": "stream",
     "text": [
      "Model: \"functional_31\"\n",
      "__________________________________________________________________________________________________\n",
      "Layer (type)                    Output Shape         Param #     Connected to                     \n",
      "==================================================================================================\n",
      "input_31 (InputLayer)           [(None, 32, 32, 3)]  0                                            \n",
      "__________________________________________________________________________________________________\n",
      "conv2d_134 (Conv2D)             (None, 32, 32, 32)   896         input_31[0][0]                   \n",
      "__________________________________________________________________________________________________\n",
      "batch_normalization_129 (BatchN (None, 32, 32, 32)   128         conv2d_134[0][0]                 \n",
      "__________________________________________________________________________________________________\n",
      "activation_64 (Activation)      (None, 32, 32, 32)   0           batch_normalization_129[0][0]    \n",
      "__________________________________________________________________________________________________\n",
      "conv2d_136 (Conv2D)             (None, 32, 32, 32)   9248        activation_64[0][0]              \n",
      "__________________________________________________________________________________________________\n",
      "conv2d_135 (Conv2D)             (None, 32, 32, 32)   896         input_31[0][0]                   \n",
      "__________________________________________________________________________________________________\n",
      "batch_normalization_130 (BatchN (None, 32, 32, 32)   128         conv2d_136[0][0]                 \n",
      "__________________________________________________________________________________________________\n",
      "add_21 (Add)                    (None, 32, 32, 32)   0           conv2d_135[0][0]                 \n",
      "                                                                 batch_normalization_130[0][0]    \n",
      "__________________________________________________________________________________________________\n",
      "activation_65 (Activation)      (None, 32, 32, 32)   0           add_21[0][0]                     \n",
      "__________________________________________________________________________________________________\n",
      "average_pooling2d_23 (AveragePo (None, 16, 16, 32)   0           activation_65[0][0]              \n",
      "__________________________________________________________________________________________________\n",
      "dropout_21 (Dropout)            (None, 16, 16, 32)   0           average_pooling2d_23[0][0]       \n",
      "__________________________________________________________________________________________________\n",
      "conv2d_137 (Conv2D)             (None, 16, 16, 64)   18496       dropout_21[0][0]                 \n",
      "__________________________________________________________________________________________________\n",
      "batch_normalization_132 (BatchN (None, 16, 16, 64)   256         conv2d_137[0][0]                 \n",
      "__________________________________________________________________________________________________\n",
      "activation_66 (Activation)      (None, 16, 16, 64)   0           batch_normalization_132[0][0]    \n",
      "__________________________________________________________________________________________________\n",
      "conv2d_139 (Conv2D)             (None, 16, 16, 64)   36928       activation_66[0][0]              \n",
      "__________________________________________________________________________________________________\n",
      "conv2d_138 (Conv2D)             (None, 16, 16, 64)   36928       conv2d_137[0][0]                 \n",
      "__________________________________________________________________________________________________\n",
      "batch_normalization_133 (BatchN (None, 16, 16, 64)   256         conv2d_139[0][0]                 \n",
      "__________________________________________________________________________________________________\n",
      "add_22 (Add)                    (None, 16, 16, 64)   0           conv2d_138[0][0]                 \n",
      "                                                                 batch_normalization_133[0][0]    \n",
      "__________________________________________________________________________________________________\n",
      "activation_67 (Activation)      (None, 16, 16, 64)   0           add_22[0][0]                     \n",
      "__________________________________________________________________________________________________\n",
      "average_pooling2d_24 (AveragePo (None, 8, 8, 64)     0           activation_67[0][0]              \n",
      "__________________________________________________________________________________________________\n",
      "dropout_22 (Dropout)            (None, 8, 8, 64)     0           average_pooling2d_24[0][0]       \n",
      "__________________________________________________________________________________________________\n",
      "conv2d_140 (Conv2D)             (None, 8, 8, 128)    73856       dropout_22[0][0]                 \n",
      "__________________________________________________________________________________________________\n",
      "batch_normalization_135 (BatchN (None, 8, 8, 128)    512         conv2d_140[0][0]                 \n",
      "__________________________________________________________________________________________________\n",
      "activation_68 (Activation)      (None, 8, 8, 128)    0           batch_normalization_135[0][0]    \n",
      "__________________________________________________________________________________________________\n",
      "conv2d_142 (Conv2D)             (None, 8, 8, 128)    147584      activation_68[0][0]              \n",
      "__________________________________________________________________________________________________\n",
      "conv2d_141 (Conv2D)             (None, 8, 8, 128)    147584      conv2d_140[0][0]                 \n",
      "__________________________________________________________________________________________________\n",
      "batch_normalization_136 (BatchN (None, 8, 8, 128)    512         conv2d_142[0][0]                 \n",
      "__________________________________________________________________________________________________\n",
      "add_23 (Add)                    (None, 8, 8, 128)    0           conv2d_141[0][0]                 \n",
      "                                                                 batch_normalization_136[0][0]    \n",
      "__________________________________________________________________________________________________\n",
      "activation_69 (Activation)      (None, 8, 8, 128)    0           add_23[0][0]                     \n",
      "__________________________________________________________________________________________________\n",
      "average_pooling2d_25 (AveragePo (None, 4, 4, 128)    0           activation_69[0][0]              \n",
      "__________________________________________________________________________________________________\n",
      "dropout_23 (Dropout)            (None, 4, 4, 128)    0           average_pooling2d_25[0][0]       \n",
      "__________________________________________________________________________________________________\n",
      "flatten_16 (Flatten)            (None, 2048)         0           dropout_23[0][0]                 \n",
      "__________________________________________________________________________________________________\n",
      "dense_16 (Dense)                (None, 10)           20490       flatten_16[0][0]                 \n",
      "==================================================================================================\n",
      "Total params: 494,698\n",
      "Trainable params: 493,802\n",
      "Non-trainable params: 896\n",
      "__________________________________________________________________________________________________\n",
      "None\n"
     ]
    }
   ],
   "source": [
    "our_network_skip = YourModel(name='network1',\n",
    "                     feature_maps=32,\n",
    "                     num_classes=len(data_manager.classes),\n",
    "                     num_blocks=3,\n",
    "                     drop_rate= 0.0, \n",
    "                     batch_norm=True, \n",
    "                     use_skip = True,\n",
    "                     optimizer='adam',\n",
    "                     learning_rate= 0.001)\n",
    "our_network_skip.build_cnn()\n",
    "our_network_skip.summary()"
   ]
  },
  {
   "cell_type": "code",
   "execution_count": 46,
   "id": "92268559",
   "metadata": {},
   "outputs": [
    {
     "name": "stdout",
     "output_type": "stream",
     "text": [
      "Epoch 1/20\n",
      "125/125 [==============================] - 12s 94ms/step - loss: 0.1022 - accuracy: 0.9650 - val_loss: 1.8735 - val_accuracy: 0.6200\n",
      "Epoch 2/20\n",
      "125/125 [==============================] - 11s 92ms/step - loss: 0.1032 - accuracy: 0.9653 - val_loss: 2.3320 - val_accuracy: 0.5580\n",
      "Epoch 3/20\n",
      "125/125 [==============================] - 11s 89ms/step - loss: 0.1180 - accuracy: 0.9597 - val_loss: 2.1643 - val_accuracy: 0.5740\n",
      "Epoch 4/20\n",
      "125/125 [==============================] - 11s 90ms/step - loss: 0.0744 - accuracy: 0.9737 - val_loss: 2.4462 - val_accuracy: 0.5660\n",
      "Epoch 5/20\n",
      "125/125 [==============================] - 11s 91ms/step - loss: 0.0389 - accuracy: 0.9870 - val_loss: 2.2153 - val_accuracy: 0.5860\n",
      "Epoch 6/20\n",
      "125/125 [==============================] - 11s 90ms/step - loss: 0.0529 - accuracy: 0.9830 - val_loss: 2.5169 - val_accuracy: 0.5960\n",
      "Epoch 7/20\n",
      "125/125 [==============================] - 11s 90ms/step - loss: 0.0818 - accuracy: 0.9720 - val_loss: 2.1671 - val_accuracy: 0.5720\n",
      "Epoch 8/20\n",
      "125/125 [==============================] - 11s 91ms/step - loss: 0.0707 - accuracy: 0.9770 - val_loss: 2.2008 - val_accuracy: 0.5700\n",
      "Epoch 9/20\n",
      "125/125 [==============================] - 11s 90ms/step - loss: 0.0885 - accuracy: 0.9728 - val_loss: 2.2489 - val_accuracy: 0.6160\n",
      "Epoch 10/20\n",
      "125/125 [==============================] - 12s 93ms/step - loss: 0.0568 - accuracy: 0.9803 - val_loss: 2.3242 - val_accuracy: 0.5760\n",
      "Epoch 11/20\n",
      "125/125 [==============================] - 11s 92ms/step - loss: 0.0806 - accuracy: 0.9750 - val_loss: 2.2603 - val_accuracy: 0.5740\n",
      "Epoch 12/20\n",
      "125/125 [==============================] - 11s 91ms/step - loss: 0.1239 - accuracy: 0.9575 - val_loss: 2.6733 - val_accuracy: 0.5860\n",
      "Epoch 13/20\n",
      "125/125 [==============================] - 11s 90ms/step - loss: 0.1089 - accuracy: 0.9668 - val_loss: 2.6382 - val_accuracy: 0.5660\n",
      "Epoch 14/20\n",
      "125/125 [==============================] - 11s 90ms/step - loss: 0.0678 - accuracy: 0.9780 - val_loss: 2.5923 - val_accuracy: 0.5640\n",
      "Epoch 15/20\n",
      "125/125 [==============================] - 11s 91ms/step - loss: 0.0550 - accuracy: 0.9803 - val_loss: 2.7119 - val_accuracy: 0.5860\n",
      "Epoch 16/20\n",
      "125/125 [==============================] - 11s 91ms/step - loss: 0.0556 - accuracy: 0.9800 - val_loss: 2.7755 - val_accuracy: 0.6060\n",
      "Epoch 17/20\n",
      "125/125 [==============================] - 11s 90ms/step - loss: 0.0852 - accuracy: 0.9722 - val_loss: 3.0605 - val_accuracy: 0.5680\n",
      "Epoch 18/20\n",
      "125/125 [==============================] - 11s 91ms/step - loss: 0.0978 - accuracy: 0.9685 - val_loss: 2.6783 - val_accuracy: 0.5820\n",
      "Epoch 19/20\n",
      "125/125 [==============================] - 11s 91ms/step - loss: 0.0600 - accuracy: 0.9805 - val_loss: 2.5269 - val_accuracy: 0.5920\n",
      "Epoch 20/20\n",
      "125/125 [==============================] - 11s 91ms/step - loss: 0.0301 - accuracy: 0.9918 - val_loss: 2.9564 - val_accuracy: 0.6120\n",
      "8/8 [==============================] - 0s 25ms/step - loss: 2.8432 - accuracy: 0.6200\n"
     ]
    },
    {
     "data": {
      "text/plain": [
       "0.6200000047683716"
      ]
     },
     "execution_count": 46,
     "metadata": {},
     "output_type": "execute_result"
    }
   ],
   "source": [
    "our_network_skip.fit(data_manager, batch_size=32, num_epochs=20)\n",
    "our_network_skip.compute_accuracy(data_manager.X_test, data_manager.y_test)"
   ]
  },
  {
   "cell_type": "code",
   "execution_count": 52,
   "id": "35d1d9e1",
   "metadata": {},
   "outputs": [
    {
     "name": "stdout",
     "output_type": "stream",
     "text": [
      "Model: \"functional_33\"\n",
      "_________________________________________________________________\n",
      "Layer (type)                 Output Shape              Param #   \n",
      "=================================================================\n",
      "input_33 (InputLayer)        [(None, 32, 32, 3)]       0         \n",
      "_________________________________________________________________\n",
      "conv2d_143 (Conv2D)          (None, 32, 32, 32)        896       \n",
      "_________________________________________________________________\n",
      "batch_normalization_138 (Bat (None, 32, 32, 32)        128       \n",
      "_________________________________________________________________\n",
      "activation_70 (Activation)   (None, 32, 32, 32)        0         \n",
      "_________________________________________________________________\n",
      "conv2d_145 (Conv2D)          (None, 32, 32, 32)        9248      \n",
      "_________________________________________________________________\n",
      "batch_normalization_140 (Bat (None, 32, 32, 32)        128       \n",
      "_________________________________________________________________\n",
      "conv2d_146 (Conv2D)          (None, 32, 32, 64)        18496     \n",
      "_________________________________________________________________\n",
      "batch_normalization_141 (Bat (None, 32, 32, 64)        256       \n",
      "_________________________________________________________________\n",
      "activation_71 (Activation)   (None, 32, 32, 64)        0         \n",
      "_________________________________________________________________\n",
      "conv2d_148 (Conv2D)          (None, 32, 32, 64)        36928     \n",
      "_________________________________________________________________\n",
      "batch_normalization_143 (Bat (None, 32, 32, 64)        256       \n",
      "_________________________________________________________________\n",
      "conv2d_149 (Conv2D)          (None, 32, 32, 128)       73856     \n",
      "_________________________________________________________________\n",
      "batch_normalization_144 (Bat (None, 32, 32, 128)       512       \n",
      "_________________________________________________________________\n",
      "activation_72 (Activation)   (None, 32, 32, 128)       0         \n",
      "_________________________________________________________________\n",
      "conv2d_151 (Conv2D)          (None, 32, 32, 128)       147584    \n",
      "_________________________________________________________________\n",
      "batch_normalization_146 (Bat (None, 32, 32, 128)       512       \n",
      "_________________________________________________________________\n",
      "flatten_17 (Flatten)         (None, 131072)            0         \n",
      "_________________________________________________________________\n",
      "dense_17 (Dense)             (None, 10)                1310730   \n",
      "=================================================================\n",
      "Total params: 1,599,530\n",
      "Trainable params: 1,598,634\n",
      "Non-trainable params: 896\n",
      "_________________________________________________________________\n",
      "None\n"
     ]
    }
   ],
   "source": [
    "our_network_no_skip = YourModel(name='network1',\n",
    "                     feature_maps=32,\n",
    "                     num_classes=len(data_manager.classes),\n",
    "                     num_blocks=3,\n",
    "                     drop_rate= 0.0, \n",
    "                     batch_norm=True, \n",
    "                     use_skip = False,\n",
    "                     optimizer='adam',\n",
    "                     learning_rate= 0.001)\n",
    "our_network_no_skip.build_cnn()\n",
    "our_network_no_skip.summary()"
   ]
  },
  {
   "cell_type": "code",
   "execution_count": 53,
   "id": "acf09e02",
   "metadata": {},
   "outputs": [
    {
     "name": "stdout",
     "output_type": "stream",
     "text": [
      "Epoch 1/20\n",
      "125/125 [==============================] - 37s 298ms/step - loss: 18.0666 - accuracy: 0.2457 - val_loss: 20.9411 - val_accuracy: 0.2780\n",
      "Epoch 2/20\n",
      "125/125 [==============================] - 38s 306ms/step - loss: 16.1092 - accuracy: 0.3192 - val_loss: 14.3922 - val_accuracy: 0.2840\n",
      "Epoch 3/20\n",
      "125/125 [==============================] - 37s 300ms/step - loss: 16.2591 - accuracy: 0.3685 - val_loss: 11.2787 - val_accuracy: 0.3840\n",
      "Epoch 4/20\n",
      "125/125 [==============================] - 37s 297ms/step - loss: 11.4490 - accuracy: 0.4358 - val_loss: 11.7622 - val_accuracy: 0.3340\n",
      "Epoch 5/20\n",
      "125/125 [==============================] - 37s 294ms/step - loss: 9.1843 - accuracy: 0.4805 - val_loss: 10.3430 - val_accuracy: 0.3580\n",
      "Epoch 6/20\n",
      "125/125 [==============================] - 37s 298ms/step - loss: 9.0349 - accuracy: 0.5153 - val_loss: 12.9028 - val_accuracy: 0.4020\n",
      "Epoch 7/20\n",
      "125/125 [==============================] - 37s 296ms/step - loss: 6.9266 - accuracy: 0.5845 - val_loss: 9.8148 - val_accuracy: 0.4060\n",
      "Epoch 8/20\n",
      "125/125 [==============================] - 37s 298ms/step - loss: 4.6169 - accuracy: 0.6447 - val_loss: 11.8394 - val_accuracy: 0.4240\n",
      "Epoch 9/20\n",
      "125/125 [==============================] - 38s 303ms/step - loss: 3.7104 - accuracy: 0.6973 - val_loss: 10.1223 - val_accuracy: 0.4240\n",
      "Epoch 10/20\n",
      "125/125 [==============================] - 37s 296ms/step - loss: 2.8293 - accuracy: 0.7555 - val_loss: 10.7588 - val_accuracy: 0.4500\n",
      "Epoch 11/20\n",
      "125/125 [==============================] - 37s 294ms/step - loss: 1.8731 - accuracy: 0.8002 - val_loss: 10.2398 - val_accuracy: 0.4460\n",
      "Epoch 12/20\n",
      "125/125 [==============================] - 37s 292ms/step - loss: 1.1457 - accuracy: 0.8525 - val_loss: 11.1404 - val_accuracy: 0.4460\n",
      "Epoch 13/20\n",
      "125/125 [==============================] - 37s 295ms/step - loss: 1.1694 - accuracy: 0.8648 - val_loss: 15.2858 - val_accuracy: 0.4480\n",
      "Epoch 14/20\n",
      "125/125 [==============================] - 39s 312ms/step - loss: 1.1336 - accuracy: 0.8727 - val_loss: 12.1152 - val_accuracy: 0.4580\n",
      "Epoch 15/20\n",
      "125/125 [==============================] - 39s 315ms/step - loss: 0.6590 - accuracy: 0.9122 - val_loss: 14.5510 - val_accuracy: 0.4640\n",
      "Epoch 16/20\n",
      "125/125 [==============================] - 37s 293ms/step - loss: 0.5335 - accuracy: 0.9205 - val_loss: 13.6015 - val_accuracy: 0.4740\n",
      "Epoch 17/20\n",
      "125/125 [==============================] - 37s 292ms/step - loss: 0.4330 - accuracy: 0.9355 - val_loss: 13.9231 - val_accuracy: 0.4180\n",
      "Epoch 18/20\n",
      "125/125 [==============================] - 36s 291ms/step - loss: 0.3509 - accuracy: 0.9495 - val_loss: 14.1048 - val_accuracy: 0.4340\n",
      "Epoch 19/20\n",
      "125/125 [==============================] - 36s 292ms/step - loss: 0.6181 - accuracy: 0.9308 - val_loss: 16.0062 - val_accuracy: 0.4540\n",
      "Epoch 20/20\n",
      "125/125 [==============================] - 36s 292ms/step - loss: 0.8505 - accuracy: 0.9030 - val_loss: 15.8262 - val_accuracy: 0.4360\n",
      "8/8 [==============================] - 1s 75ms/step - loss: 17.5428 - accuracy: 0.4620\n"
     ]
    },
    {
     "data": {
      "text/plain": [
       "0.4620000123977661"
      ]
     },
     "execution_count": 53,
     "metadata": {},
     "output_type": "execute_result"
    }
   ],
   "source": [
    "our_network_no_skip.fit(data_manager, batch_size=32, num_epochs=20)\n",
    "our_network_no_skip.compute_accuracy(data_manager.X_test, data_manager.y_test)"
   ]
  },
  {
   "cell_type": "markdown",
   "id": "306127de",
   "metadata": {},
   "source": [
    "<span style=\"color:red\">**Question 3.4**</span> **Now, let us tune the $num\\_blocks \\in \\{2,3,4\\}$, $use\\_skip \\in \\{True, False\\}$, and $learning\\_rate \\in \\{0.001, 0.0001\\}$. Write your code for this tuning and report the result of the best model on the testing set. Note that you need to show your code for tuning and evaluating on the test set to earn the full marks. During tuning, you can set the instance variable `verbose` of your model to `False` for not showing the training details of each epoch.**\n",
    " \n",
    "<div style=\"text-align: right\"> <span style=\"color:red\">[4 points]</span> </div>"
   ]
  },
  {
   "cell_type": "markdown",
   "id": "fa4ee2b9",
   "metadata": {},
   "source": []
  },
  {
   "cell_type": "markdown",
   "id": "f7adad7a",
   "metadata": {},
   "source": [
    "#*Report the best parameters and the testing accuracy here*\n",
    "\n",
    "The best model will be num_block=4, use_skip=True, learning rate=0.001"
   ]
  },
  {
   "cell_type": "code",
   "execution_count": 54,
   "id": "275a9848",
   "metadata": {},
   "outputs": [
    {
     "name": "stdout",
     "output_type": "stream",
     "text": [
      "Epoch 1/20\n",
      "125/125 [==============================] - 9s 72ms/step - loss: 1.9112 - accuracy: 0.3490 - val_loss: 1.6015 - val_accuracy: 0.4240\n",
      "Epoch 2/20\n",
      "125/125 [==============================] - 9s 71ms/step - loss: 1.4353 - accuracy: 0.5167 - val_loss: 1.4869 - val_accuracy: 0.5120\n",
      "Epoch 3/20\n",
      "125/125 [==============================] - 8s 66ms/step - loss: 1.1197 - accuracy: 0.6192 - val_loss: 1.4245 - val_accuracy: 0.4960\n",
      "Epoch 4/20\n",
      "125/125 [==============================] - 9s 68ms/step - loss: 0.8681 - accuracy: 0.7113 - val_loss: 1.3499 - val_accuracy: 0.5500\n",
      "Epoch 5/20\n",
      "125/125 [==============================] - 8s 67ms/step - loss: 0.6693 - accuracy: 0.7775 - val_loss: 1.4882 - val_accuracy: 0.5440\n",
      "Epoch 6/20\n",
      "125/125 [==============================] - 9s 68ms/step - loss: 0.5166 - accuracy: 0.8307 - val_loss: 1.5481 - val_accuracy: 0.5360\n",
      "Epoch 7/20\n",
      "125/125 [==============================] - 8s 67ms/step - loss: 0.3895 - accuracy: 0.8702 - val_loss: 1.6246 - val_accuracy: 0.5840\n",
      "Epoch 8/20\n",
      "125/125 [==============================] - 9s 69ms/step - loss: 0.2855 - accuracy: 0.9085 - val_loss: 1.5476 - val_accuracy: 0.5640\n",
      "Epoch 9/20\n",
      "125/125 [==============================] - 8s 66ms/step - loss: 0.2016 - accuracy: 0.9380 - val_loss: 1.7305 - val_accuracy: 0.6020\n",
      "Epoch 10/20\n",
      "125/125 [==============================] - 9s 68ms/step - loss: 0.1494 - accuracy: 0.9525 - val_loss: 1.8341 - val_accuracy: 0.5940\n",
      "Epoch 11/20\n",
      "125/125 [==============================] - 8s 67ms/step - loss: 0.0849 - accuracy: 0.9768 - val_loss: 2.0337 - val_accuracy: 0.5800\n",
      "Epoch 12/20\n",
      "125/125 [==============================] - 9s 68ms/step - loss: 0.0788 - accuracy: 0.9787 - val_loss: 1.9290 - val_accuracy: 0.5660\n",
      "Epoch 13/20\n",
      "125/125 [==============================] - 9s 69ms/step - loss: 0.0827 - accuracy: 0.9768 - val_loss: 2.2122 - val_accuracy: 0.5420\n",
      "Epoch 14/20\n",
      "125/125 [==============================] - 9s 68ms/step - loss: 0.0969 - accuracy: 0.9700 - val_loss: 2.1849 - val_accuracy: 0.5740\n",
      "Epoch 15/20\n",
      "125/125 [==============================] - 8s 68ms/step - loss: 0.0946 - accuracy: 0.9737 - val_loss: 1.8683 - val_accuracy: 0.5960\n",
      "Epoch 16/20\n",
      "125/125 [==============================] - 8s 67ms/step - loss: 0.0952 - accuracy: 0.9712 - val_loss: 2.5172 - val_accuracy: 0.5460\n",
      "Epoch 17/20\n",
      "125/125 [==============================] - 9s 68ms/step - loss: 0.0919 - accuracy: 0.9672 - val_loss: 2.5413 - val_accuracy: 0.5520\n",
      "Epoch 18/20\n",
      "125/125 [==============================] - 8s 67ms/step - loss: 0.0675 - accuracy: 0.9812 - val_loss: 2.6028 - val_accuracy: 0.6160\n",
      "Epoch 19/20\n",
      "125/125 [==============================] - 9s 68ms/step - loss: 0.0474 - accuracy: 0.9865 - val_loss: 2.7271 - val_accuracy: 0.5680\n",
      "Epoch 20/20\n",
      "125/125 [==============================] - 8s 67ms/step - loss: 0.0570 - accuracy: 0.9815 - val_loss: 2.6022 - val_accuracy: 0.5680\n",
      "8/8 [==============================] - 0s 17ms/step - loss: 2.4070 - accuracy: 0.5600\n"
     ]
    },
    {
     "data": {
      "text/plain": [
       "0.5600000023841858"
      ]
     },
     "execution_count": 54,
     "metadata": {},
     "output_type": "execute_result"
    }
   ],
   "source": [
    "#Insert your code here. You can add more cells if necessary\n",
    "best_val_accuracy = 0\n",
    "best_hparam = None\n",
    "\n",
    "for num_blocks in [2, 3, 4]:\n",
    "    for use_skip in [True, False]:\n",
    "        for learning_rate in [0.001, 0.0001]:\n",
    "            Model_1 = YourModel(name='network1',\n",
    "                                feature_maps=32,\n",
    "                                num_classes=len(data_manager.classes),\n",
    "                                num_blocks=num_blocks,\n",
    "                                drop_rate= 0.0, \n",
    "                                batch_norm=True, \n",
    "                                use_skip = use_skip,\n",
    "                                optimizer='adam',\n",
    "                                learning_rate= learning_rate)\n",
    "            Model_1.build_cnn()\n",
    "            Model_1.fit(data_manager, batch_size=32, num_epochs=20)\n",
    "            val_accuracy: float = Model_1.compute_accuracy(data_manager.X_test, data_manager.y_test)\n",
    "            if val_accuracy > best_val_accuracy:\n",
    "                best_val_accuracy = val_accuracy\n",
    "                best_hparam = [num_blocks, use_skip, learning_rate]\n",
    "\n",
    "print(best_hparam)"
   ]
  },
  {
   "cell_type": "code",
   "execution_count": 55,
   "id": "baa00898",
   "metadata": {},
   "outputs": [
    {
     "name": "stdout",
     "output_type": "stream",
     "text": [
      "Epoch 1/20\n",
      "125/125 [==============================] - 12s 93ms/step - loss: 1.9032 - accuracy: 0.3442 - val_loss: 1.6072 - val_accuracy: 0.4180\n",
      "Epoch 2/20\n",
      "125/125 [==============================] - 12s 92ms/step - loss: 1.4817 - accuracy: 0.4852 - val_loss: 1.5441 - val_accuracy: 0.5000\n",
      "Epoch 3/20\n",
      "125/125 [==============================] - 11s 92ms/step - loss: 1.2510 - accuracy: 0.5698 - val_loss: 1.3912 - val_accuracy: 0.5120\n",
      "Epoch 4/20\n",
      "125/125 [==============================] - 11s 91ms/step - loss: 1.0033 - accuracy: 0.6605 - val_loss: 1.2341 - val_accuracy: 0.6020\n",
      "Epoch 5/20\n",
      "125/125 [==============================] - 12s 93ms/step - loss: 0.8540 - accuracy: 0.7042 - val_loss: 1.3882 - val_accuracy: 0.5720\n",
      "Epoch 6/20\n",
      "125/125 [==============================] - 12s 92ms/step - loss: 0.6797 - accuracy: 0.7678 - val_loss: 1.4261 - val_accuracy: 0.5440\n",
      "Epoch 7/20\n",
      "125/125 [==============================] - 11s 92ms/step - loss: 0.5099 - accuracy: 0.8217 - val_loss: 1.4301 - val_accuracy: 0.5460\n",
      "Epoch 8/20\n",
      "125/125 [==============================] - 12s 93ms/step - loss: 0.3940 - accuracy: 0.8680 - val_loss: 1.4323 - val_accuracy: 0.5900\n",
      "Epoch 9/20\n",
      "125/125 [==============================] - 12s 97ms/step - loss: 0.3008 - accuracy: 0.9010 - val_loss: 1.5707 - val_accuracy: 0.5580\n",
      "Epoch 10/20\n",
      "125/125 [==============================] - 12s 94ms/step - loss: 0.2341 - accuracy: 0.9243 - val_loss: 1.6197 - val_accuracy: 0.5860\n",
      "Epoch 11/20\n",
      "125/125 [==============================] - 11s 91ms/step - loss: 0.1367 - accuracy: 0.9567 - val_loss: 1.7614 - val_accuracy: 0.6000\n",
      "Epoch 12/20\n",
      "125/125 [==============================] - 11s 91ms/step - loss: 0.1490 - accuracy: 0.9510 - val_loss: 1.5436 - val_accuracy: 0.6040\n",
      "Epoch 13/20\n",
      "125/125 [==============================] - 11s 92ms/step - loss: 0.1330 - accuracy: 0.9585 - val_loss: 1.9516 - val_accuracy: 0.5780\n",
      "Epoch 14/20\n",
      "125/125 [==============================] - 11s 91ms/step - loss: 0.1206 - accuracy: 0.9638 - val_loss: 2.1658 - val_accuracy: 0.5720\n",
      "Epoch 15/20\n",
      "125/125 [==============================] - 11s 91ms/step - loss: 0.0993 - accuracy: 0.9668 - val_loss: 1.9904 - val_accuracy: 0.5540\n",
      "Epoch 16/20\n",
      "125/125 [==============================] - 12s 92ms/step - loss: 0.1296 - accuracy: 0.9553 - val_loss: 1.9787 - val_accuracy: 0.5740\n",
      "Epoch 17/20\n",
      "125/125 [==============================] - 11s 92ms/step - loss: 0.1076 - accuracy: 0.9607 - val_loss: 1.9492 - val_accuracy: 0.5840\n",
      "Epoch 18/20\n",
      "125/125 [==============================] - 11s 91ms/step - loss: 0.0926 - accuracy: 0.9700 - val_loss: 2.1956 - val_accuracy: 0.6160\n",
      "Epoch 19/20\n",
      "125/125 [==============================] - 11s 91ms/step - loss: 0.0736 - accuracy: 0.9753 - val_loss: 2.2088 - val_accuracy: 0.5940\n",
      "Epoch 20/20\n",
      "125/125 [==============================] - 11s 92ms/step - loss: 0.0755 - accuracy: 0.9755 - val_loss: 2.3909 - val_accuracy: 0.5660\n",
      "8/8 [==============================] - 0s 25ms/step - loss: 2.3442 - accuracy: 0.5840\n"
     ]
    },
    {
     "data": {
      "text/plain": [
       "0.5839999914169312"
      ]
     },
     "execution_count": 55,
     "metadata": {},
     "output_type": "execute_result"
    }
   ],
   "source": [
    "Model_2 = YourModel(name='network1',\n",
    "                     feature_maps=32,\n",
    "                     num_classes=len(data_manager.classes),\n",
    "                     num_blocks=3,\n",
    "                     drop_rate= 0.0, \n",
    "                     batch_norm=True, \n",
    "                     use_skip = True,\n",
    "                     optimizer='adam',\n",
    "                     learning_rate= 0.001)\n",
    "Model_2.build_cnn()\n",
    "Model_2.fit(data_manager, batch_size=32, num_epochs=20)\n",
    "Model_2.compute_accuracy(data_manager.X_test, data_manager.y_test)"
   ]
  },
  {
   "cell_type": "code",
   "execution_count": 56,
   "id": "163c8e23",
   "metadata": {},
   "outputs": [
    {
     "name": "stdout",
     "output_type": "stream",
     "text": [
      "Epoch 1/20\n",
      "125/125 [==============================] - 14s 112ms/step - loss: 2.0715 - accuracy: 0.2833 - val_loss: 1.8501 - val_accuracy: 0.3300\n",
      "Epoch 2/20\n",
      "125/125 [==============================] - 14s 111ms/step - loss: 1.6970 - accuracy: 0.3875 - val_loss: 1.6800 - val_accuracy: 0.3720\n",
      "Epoch 3/20\n",
      "125/125 [==============================] - 14s 110ms/step - loss: 1.4840 - accuracy: 0.4840 - val_loss: 1.6351 - val_accuracy: 0.4240\n",
      "Epoch 4/20\n",
      "125/125 [==============================] - 14s 110ms/step - loss: 1.3211 - accuracy: 0.5365 - val_loss: 1.5691 - val_accuracy: 0.4380\n",
      "Epoch 5/20\n",
      "125/125 [==============================] - 14s 110ms/step - loss: 1.1622 - accuracy: 0.5947 - val_loss: 1.3057 - val_accuracy: 0.5140\n",
      "Epoch 6/20\n",
      "125/125 [==============================] - 14s 110ms/step - loss: 1.0219 - accuracy: 0.6425 - val_loss: 1.3553 - val_accuracy: 0.5340\n",
      "Epoch 7/20\n",
      "125/125 [==============================] - 14s 111ms/step - loss: 0.8821 - accuracy: 0.6883 - val_loss: 1.4195 - val_accuracy: 0.5200\n",
      "Epoch 8/20\n",
      "125/125 [==============================] - 14s 111ms/step - loss: 0.7782 - accuracy: 0.7218 - val_loss: 1.2789 - val_accuracy: 0.5820\n",
      "Epoch 9/20\n",
      "125/125 [==============================] - 14s 110ms/step - loss: 0.6837 - accuracy: 0.7650 - val_loss: 1.6565 - val_accuracy: 0.5380\n",
      "Epoch 10/20\n",
      "125/125 [==============================] - 14s 110ms/step - loss: 0.5442 - accuracy: 0.8033 - val_loss: 1.3373 - val_accuracy: 0.5860\n",
      "Epoch 11/20\n",
      "125/125 [==============================] - 14s 110ms/step - loss: 0.4623 - accuracy: 0.8393 - val_loss: 1.5652 - val_accuracy: 0.5240\n",
      "Epoch 12/20\n",
      "125/125 [==============================] - 14s 111ms/step - loss: 0.3856 - accuracy: 0.8687 - val_loss: 1.4020 - val_accuracy: 0.6100\n",
      "Epoch 13/20\n",
      "125/125 [==============================] - 14s 111ms/step - loss: 0.3208 - accuracy: 0.8860 - val_loss: 1.5058 - val_accuracy: 0.5960\n",
      "Epoch 14/20\n",
      "125/125 [==============================] - 14s 112ms/step - loss: 0.2976 - accuracy: 0.9038 - val_loss: 1.5101 - val_accuracy: 0.6060\n",
      "Epoch 15/20\n",
      "125/125 [==============================] - 14s 112ms/step - loss: 0.1747 - accuracy: 0.9415 - val_loss: 1.8922 - val_accuracy: 0.6100\n",
      "Epoch 16/20\n",
      "125/125 [==============================] - 14s 112ms/step - loss: 0.2065 - accuracy: 0.9275 - val_loss: 1.7858 - val_accuracy: 0.5560\n",
      "Epoch 17/20\n",
      "125/125 [==============================] - 14s 112ms/step - loss: 0.2168 - accuracy: 0.9268 - val_loss: 1.9845 - val_accuracy: 0.5520\n",
      "Epoch 18/20\n",
      "125/125 [==============================] - 14s 112ms/step - loss: 0.1928 - accuracy: 0.9350 - val_loss: 2.0578 - val_accuracy: 0.6000\n",
      "Epoch 19/20\n",
      "125/125 [==============================] - 14s 112ms/step - loss: 0.1788 - accuracy: 0.9405 - val_loss: 1.9114 - val_accuracy: 0.6060\n",
      "Epoch 20/20\n",
      "125/125 [==============================] - 14s 113ms/step - loss: 0.1560 - accuracy: 0.9425 - val_loss: 1.9300 - val_accuracy: 0.5820\n",
      "8/8 [==============================] - 0s 31ms/step - loss: 1.7743 - accuracy: 0.6160\n"
     ]
    },
    {
     "data": {
      "text/plain": [
       "0.6159999966621399"
      ]
     },
     "execution_count": 56,
     "metadata": {},
     "output_type": "execute_result"
    }
   ],
   "source": [
    "Model_3 = YourModel(name='network1',\n",
    "                     feature_maps=32,\n",
    "                     num_classes=len(data_manager.classes),\n",
    "                     num_blocks=4,\n",
    "                     drop_rate= 0.0, \n",
    "                     batch_norm=True, \n",
    "                     use_skip = True,\n",
    "                     optimizer='adam',\n",
    "                     learning_rate= 0.001)\n",
    "Model_3.build_cnn()\n",
    "Model_3.fit(data_manager, batch_size=32, num_epochs=20)\n",
    "Model_3.compute_accuracy(data_manager.X_test, data_manager.y_test)"
   ]
  },
  {
   "cell_type": "code",
   "execution_count": 57,
   "id": "c7773470",
   "metadata": {},
   "outputs": [
    {
     "name": "stdout",
     "output_type": "stream",
     "text": [
      "Epoch 1/20\n",
      "125/125 [==============================] - 15s 117ms/step - loss: 9.0460 - accuracy: 0.2993 - val_loss: 10.1931 - val_accuracy: 0.3140\n",
      "Epoch 2/20\n",
      "125/125 [==============================] - 14s 114ms/step - loss: 4.5844 - accuracy: 0.5552 - val_loss: 8.4282 - val_accuracy: 0.3800\n",
      "Epoch 3/20\n",
      "125/125 [==============================] - 14s 114ms/step - loss: 1.9927 - accuracy: 0.7452 - val_loss: 8.1738 - val_accuracy: 0.3660\n",
      "Epoch 4/20\n",
      "125/125 [==============================] - 14s 115ms/step - loss: 0.7345 - accuracy: 0.8685 - val_loss: 7.6652 - val_accuracy: 0.4140\n",
      "Epoch 5/20\n",
      "125/125 [==============================] - 14s 115ms/step - loss: 0.4305 - accuracy: 0.9225 - val_loss: 8.4402 - val_accuracy: 0.3940\n",
      "Epoch 6/20\n",
      "125/125 [==============================] - 14s 115ms/step - loss: 0.3909 - accuracy: 0.9245 - val_loss: 8.4052 - val_accuracy: 0.3920\n",
      "Epoch 7/20\n",
      "125/125 [==============================] - 14s 115ms/step - loss: 0.2974 - accuracy: 0.9395 - val_loss: 8.9735 - val_accuracy: 0.4000\n",
      "Epoch 8/20\n",
      "125/125 [==============================] - 15s 118ms/step - loss: 0.3470 - accuracy: 0.9352 - val_loss: 9.2388 - val_accuracy: 0.3960\n",
      "Epoch 9/20\n",
      "125/125 [==============================] - 14s 114ms/step - loss: 0.2913 - accuracy: 0.9425 - val_loss: 9.2146 - val_accuracy: 0.4400\n",
      "Epoch 10/20\n",
      "125/125 [==============================] - 14s 114ms/step - loss: 0.2776 - accuracy: 0.9465 - val_loss: 8.7668 - val_accuracy: 0.4040\n",
      "Epoch 11/20\n",
      "125/125 [==============================] - 15s 118ms/step - loss: 0.2576 - accuracy: 0.9485 - val_loss: 9.3953 - val_accuracy: 0.4060\n",
      "Epoch 12/20\n",
      "125/125 [==============================] - 14s 116ms/step - loss: 0.2227 - accuracy: 0.9582 - val_loss: 9.7141 - val_accuracy: 0.4260\n",
      "Epoch 13/20\n",
      "125/125 [==============================] - 15s 118ms/step - loss: 0.1843 - accuracy: 0.9605 - val_loss: 10.2583 - val_accuracy: 0.4060\n",
      "Epoch 14/20\n",
      "125/125 [==============================] - 15s 117ms/step - loss: 0.2997 - accuracy: 0.9460 - val_loss: 9.6821 - val_accuracy: 0.4040\n",
      "Epoch 15/20\n",
      "125/125 [==============================] - 14s 115ms/step - loss: 0.2701 - accuracy: 0.9495 - val_loss: 11.3143 - val_accuracy: 0.4160\n",
      "Epoch 16/20\n",
      "125/125 [==============================] - 15s 116ms/step - loss: 0.3400 - accuracy: 0.9442 - val_loss: 10.4525 - val_accuracy: 0.4160\n",
      "Epoch 17/20\n",
      "125/125 [==============================] - 14s 115ms/step - loss: 0.3461 - accuracy: 0.9415 - val_loss: 11.9368 - val_accuracy: 0.4080\n",
      "Epoch 18/20\n",
      "125/125 [==============================] - 14s 115ms/step - loss: 0.2628 - accuracy: 0.9590 - val_loss: 10.8656 - val_accuracy: 0.3980\n",
      "Epoch 19/20\n",
      "125/125 [==============================] - 15s 117ms/step - loss: 0.2092 - accuracy: 0.9620 - val_loss: 11.3429 - val_accuracy: 0.4140\n",
      "Epoch 20/20\n",
      "125/125 [==============================] - 14s 115ms/step - loss: 0.2300 - accuracy: 0.9588 - val_loss: 11.1195 - val_accuracy: 0.4040\n",
      "8/8 [==============================] - 0s 26ms/step - loss: 12.1546 - accuracy: 0.4300\n"
     ]
    },
    {
     "data": {
      "text/plain": [
       "0.4300000071525574"
      ]
     },
     "execution_count": 57,
     "metadata": {},
     "output_type": "execute_result"
    }
   ],
   "source": [
    "Model_4 = YourModel(name='network1',\n",
    "                     feature_maps=32,\n",
    "                     num_classes=len(data_manager.classes),\n",
    "                     num_blocks=2,\n",
    "                     drop_rate= 0.0, \n",
    "                     batch_norm=True, \n",
    "                     use_skip = False,\n",
    "                     optimizer='adam',\n",
    "                     learning_rate= 0.001)\n",
    "Model_4.build_cnn()\n",
    "Model_4.fit(data_manager, batch_size=32, num_epochs=20)\n",
    "Model_4.compute_accuracy(data_manager.X_test, data_manager.y_test)"
   ]
  },
  {
   "cell_type": "code",
   "execution_count": 58,
   "id": "a317c7e7",
   "metadata": {},
   "outputs": [
    {
     "name": "stdout",
     "output_type": "stream",
     "text": [
      "Epoch 1/20\n",
      "125/125 [==============================] - 40s 320ms/step - loss: 18.0666 - accuracy: 0.2457 - val_loss: 20.9411 - val_accuracy: 0.2780\n",
      "Epoch 2/20\n",
      "125/125 [==============================] - 39s 310ms/step - loss: 16.1092 - accuracy: 0.3192 - val_loss: 14.3922 - val_accuracy: 0.2840\n",
      "Epoch 3/20\n",
      "125/125 [==============================] - 38s 302ms/step - loss: 16.2591 - accuracy: 0.3685 - val_loss: 11.2787 - val_accuracy: 0.3840\n",
      "Epoch 4/20\n",
      "125/125 [==============================] - 38s 302ms/step - loss: 11.4490 - accuracy: 0.4358 - val_loss: 11.7622 - val_accuracy: 0.3340\n",
      "Epoch 5/20\n",
      "125/125 [==============================] - 38s 303ms/step - loss: 9.1843 - accuracy: 0.4805 - val_loss: 10.3430 - val_accuracy: 0.3580\n",
      "Epoch 6/20\n",
      "125/125 [==============================] - 38s 303ms/step - loss: 9.0349 - accuracy: 0.5153 - val_loss: 12.9028 - val_accuracy: 0.4020\n",
      "Epoch 7/20\n",
      "125/125 [==============================] - 39s 310ms/step - loss: 6.9266 - accuracy: 0.5845 - val_loss: 9.8148 - val_accuracy: 0.4060\n",
      "Epoch 8/20\n",
      "125/125 [==============================] - 38s 300ms/step - loss: 4.6169 - accuracy: 0.6447 - val_loss: 11.8394 - val_accuracy: 0.4240\n",
      "Epoch 9/20\n",
      "125/125 [==============================] - 38s 301ms/step - loss: 3.7104 - accuracy: 0.6973 - val_loss: 10.1223 - val_accuracy: 0.4240\n",
      "Epoch 10/20\n",
      "125/125 [==============================] - 38s 302ms/step - loss: 2.8293 - accuracy: 0.7555 - val_loss: 10.7588 - val_accuracy: 0.4500\n",
      "Epoch 11/20\n",
      "125/125 [==============================] - 38s 303ms/step - loss: 1.8731 - accuracy: 0.8002 - val_loss: 10.2398 - val_accuracy: 0.4460\n",
      "Epoch 12/20\n",
      "125/125 [==============================] - 38s 304ms/step - loss: 1.1457 - accuracy: 0.8525 - val_loss: 11.1404 - val_accuracy: 0.4460\n",
      "Epoch 13/20\n",
      "125/125 [==============================] - 38s 302ms/step - loss: 1.1694 - accuracy: 0.8648 - val_loss: 15.2858 - val_accuracy: 0.4480\n",
      "Epoch 14/20\n",
      "125/125 [==============================] - 38s 303ms/step - loss: 1.1336 - accuracy: 0.8727 - val_loss: 12.1152 - val_accuracy: 0.4580\n",
      "Epoch 15/20\n",
      "125/125 [==============================] - 38s 302ms/step - loss: 0.6590 - accuracy: 0.9122 - val_loss: 14.5510 - val_accuracy: 0.4640\n",
      "Epoch 16/20\n",
      "125/125 [==============================] - 39s 312ms/step - loss: 0.5335 - accuracy: 0.9205 - val_loss: 13.6015 - val_accuracy: 0.4740\n",
      "Epoch 17/20\n",
      "125/125 [==============================] - 38s 302ms/step - loss: 0.4330 - accuracy: 0.9355 - val_loss: 13.9231 - val_accuracy: 0.4180\n",
      "Epoch 18/20\n",
      "125/125 [==============================] - 38s 301ms/step - loss: 0.3509 - accuracy: 0.9495 - val_loss: 14.1048 - val_accuracy: 0.4340\n",
      "Epoch 19/20\n",
      "125/125 [==============================] - 38s 302ms/step - loss: 0.6181 - accuracy: 0.9308 - val_loss: 16.0062 - val_accuracy: 0.4540\n",
      "Epoch 20/20\n",
      "125/125 [==============================] - 38s 302ms/step - loss: 0.8505 - accuracy: 0.9030 - val_loss: 15.8262 - val_accuracy: 0.4360\n",
      "8/8 [==============================] - 1s 74ms/step - loss: 17.5428 - accuracy: 0.4620\n"
     ]
    },
    {
     "data": {
      "text/plain": [
       "0.4620000123977661"
      ]
     },
     "execution_count": 58,
     "metadata": {},
     "output_type": "execute_result"
    }
   ],
   "source": [
    "Model_5 = YourModel(name='network1',\n",
    "                     feature_maps=32,\n",
    "                     num_classes=len(data_manager.classes),\n",
    "                     num_blocks=3,\n",
    "                     drop_rate= 0.0, \n",
    "                     batch_norm=True, \n",
    "                     use_skip = False,\n",
    "                     optimizer='adam',\n",
    "                     learning_rate= 0.001)\n",
    "Model_5.build_cnn()\n",
    "Model_5.fit(data_manager, batch_size=32, num_epochs=20)\n",
    "Model_5.compute_accuracy(data_manager.X_test, data_manager.y_test)"
   ]
  },
  {
   "cell_type": "code",
   "execution_count": 59,
   "id": "8c4edb37",
   "metadata": {},
   "outputs": [
    {
     "name": "stdout",
     "output_type": "stream",
     "text": [
      "Epoch 1/20\n",
      "125/125 [==============================] - 106s 849ms/step - loss: 40.1133 - accuracy: 0.1883 - val_loss: 19.9473 - val_accuracy: 0.1920\n",
      "Epoch 2/20\n",
      "125/125 [==============================] - 106s 846ms/step - loss: 29.0070 - accuracy: 0.2188 - val_loss: 26.9787 - val_accuracy: 0.2160\n",
      "Epoch 3/20\n",
      "125/125 [==============================] - 107s 857ms/step - loss: 27.9834 - accuracy: 0.2342 - val_loss: 12.5485 - val_accuracy: 0.1500\n",
      "Epoch 4/20\n",
      "125/125 [==============================] - 106s 845ms/step - loss: 27.2998 - accuracy: 0.2385 - val_loss: 31.0109 - val_accuracy: 0.1900\n",
      "Epoch 5/20\n",
      "125/125 [==============================] - 106s 846ms/step - loss: 19.0519 - accuracy: 0.2702 - val_loss: 18.9795 - val_accuracy: 0.2680\n",
      "Epoch 6/20\n",
      "125/125 [==============================] - 107s 854ms/step - loss: 20.1886 - accuracy: 0.2770 - val_loss: 19.4548 - val_accuracy: 0.2300\n",
      "Epoch 7/20\n",
      "125/125 [==============================] - 106s 846ms/step - loss: 14.8483 - accuracy: 0.2870 - val_loss: 10.9876 - val_accuracy: 0.2000\n",
      "Epoch 8/20\n",
      "125/125 [==============================] - 105s 840ms/step - loss: 15.9153 - accuracy: 0.2535 - val_loss: 9.8584 - val_accuracy: 0.2180\n",
      "Epoch 9/20\n",
      "125/125 [==============================] - 104s 835ms/step - loss: 14.8006 - accuracy: 0.2892 - val_loss: 5.3688 - val_accuracy: 0.3500\n",
      "Epoch 10/20\n",
      "125/125 [==============================] - 104s 836ms/step - loss: 13.6701 - accuracy: 0.3010 - val_loss: 7.2397 - val_accuracy: 0.3020\n",
      "Epoch 11/20\n",
      "125/125 [==============================] - 104s 833ms/step - loss: 7.6263 - accuracy: 0.3675 - val_loss: 3.9554 - val_accuracy: 0.3140\n",
      "Epoch 12/20\n",
      "125/125 [==============================] - 104s 833ms/step - loss: 8.2834 - accuracy: 0.3500 - val_loss: 8.8854 - val_accuracy: 0.2880\n",
      "Epoch 13/20\n",
      "125/125 [==============================] - 104s 833ms/step - loss: 7.6512 - accuracy: 0.3180 - val_loss: 3.9276 - val_accuracy: 0.3160\n",
      "Epoch 14/20\n",
      "125/125 [==============================] - 105s 841ms/step - loss: 6.4613 - accuracy: 0.3630 - val_loss: 3.3096 - val_accuracy: 0.3060\n",
      "Epoch 15/20\n",
      "125/125 [==============================] - 104s 832ms/step - loss: 6.1073 - accuracy: 0.3358 - val_loss: 1.8457 - val_accuracy: 0.3580\n",
      "Epoch 16/20\n",
      "125/125 [==============================] - 106s 848ms/step - loss: 7.1064 - accuracy: 0.3593 - val_loss: 2.4983 - val_accuracy: 0.3600\n",
      "Epoch 17/20\n",
      "125/125 [==============================] - 110s 883ms/step - loss: 6.5995 - accuracy: 0.3742 - val_loss: 4.8356 - val_accuracy: 0.3200\n",
      "Epoch 18/20\n",
      "125/125 [==============================] - 108s 868ms/step - loss: 4.5229 - accuracy: 0.3862 - val_loss: 4.6550 - val_accuracy: 0.3060\n",
      "Epoch 19/20\n",
      "125/125 [==============================] - 108s 864ms/step - loss: 4.5435 - accuracy: 0.3758 - val_loss: 4.1917 - val_accuracy: 0.3200\n",
      "Epoch 20/20\n",
      "125/125 [==============================] - 107s 855ms/step - loss: 4.6980 - accuracy: 0.3600 - val_loss: 2.7786 - val_accuracy: 0.2540\n",
      "8/8 [==============================] - 2s 247ms/step - loss: 3.4121 - accuracy: 0.2820\n"
     ]
    },
    {
     "data": {
      "text/plain": [
       "0.28200000524520874"
      ]
     },
     "execution_count": 59,
     "metadata": {},
     "output_type": "execute_result"
    }
   ],
   "source": [
    "Model_6 = YourModel(name='network1',\n",
    "                     feature_maps=32,\n",
    "                     num_classes=len(data_manager.classes),\n",
    "                     num_blocks=4,\n",
    "                     drop_rate= 0.0, \n",
    "                     batch_norm=True, \n",
    "                     use_skip = False,\n",
    "                     optimizer='adam',\n",
    "                     learning_rate= 0.001)\n",
    "Model_6.build_cnn()\n",
    "Model_6.fit(data_manager, batch_size=32, num_epochs=20)\n",
    "Model_6.compute_accuracy(data_manager.X_test, data_manager.y_test)"
   ]
  },
  {
   "cell_type": "code",
   "execution_count": 60,
   "id": "65145627",
   "metadata": {},
   "outputs": [
    {
     "name": "stdout",
     "output_type": "stream",
     "text": [
      "Epoch 1/20\n",
      "125/125 [==============================] - 8s 67ms/step - loss: 2.0581 - accuracy: 0.2627 - val_loss: 1.8344 - val_accuracy: 0.3660\n",
      "Epoch 2/20\n",
      "125/125 [==============================] - 8s 68ms/step - loss: 1.6696 - accuracy: 0.4207 - val_loss: 1.7107 - val_accuracy: 0.4140\n",
      "Epoch 3/20\n",
      "125/125 [==============================] - 8s 67ms/step - loss: 1.5066 - accuracy: 0.4855 - val_loss: 1.5861 - val_accuracy: 0.4500\n",
      "Epoch 4/20\n",
      "125/125 [==============================] - 8s 68ms/step - loss: 1.3761 - accuracy: 0.5383 - val_loss: 1.5461 - val_accuracy: 0.4720\n",
      "Epoch 5/20\n",
      "125/125 [==============================] - 9s 69ms/step - loss: 1.2664 - accuracy: 0.5735 - val_loss: 1.4944 - val_accuracy: 0.4880\n",
      "Epoch 6/20\n",
      "125/125 [==============================] - 9s 68ms/step - loss: 1.1793 - accuracy: 0.6068 - val_loss: 1.4601 - val_accuracy: 0.5000\n",
      "Epoch 7/20\n",
      "125/125 [==============================] - 8s 67ms/step - loss: 1.0883 - accuracy: 0.6365 - val_loss: 1.4405 - val_accuracy: 0.5280\n",
      "Epoch 8/20\n",
      "125/125 [==============================] - 8s 68ms/step - loss: 1.0309 - accuracy: 0.6640 - val_loss: 1.4447 - val_accuracy: 0.5140\n",
      "Epoch 9/20\n",
      "125/125 [==============================] - 8s 66ms/step - loss: 0.9466 - accuracy: 0.6998 - val_loss: 1.3903 - val_accuracy: 0.5320\n",
      "Epoch 10/20\n",
      "125/125 [==============================] - 8s 68ms/step - loss: 0.8876 - accuracy: 0.7255 - val_loss: 1.4059 - val_accuracy: 0.5180\n",
      "Epoch 11/20\n",
      "125/125 [==============================] - 8s 67ms/step - loss: 0.8319 - accuracy: 0.7455 - val_loss: 1.3727 - val_accuracy: 0.5320\n",
      "Epoch 12/20\n",
      "125/125 [==============================] - 8s 68ms/step - loss: 0.7684 - accuracy: 0.7663 - val_loss: 1.3599 - val_accuracy: 0.5360\n",
      "Epoch 13/20\n",
      "125/125 [==============================] - 8s 67ms/step - loss: 0.7215 - accuracy: 0.7793 - val_loss: 1.4713 - val_accuracy: 0.5180\n",
      "Epoch 14/20\n",
      "125/125 [==============================] - 8s 67ms/step - loss: 0.6832 - accuracy: 0.7918 - val_loss: 1.3573 - val_accuracy: 0.5540\n",
      "Epoch 15/20\n",
      "125/125 [==============================] - 8s 67ms/step - loss: 0.6349 - accuracy: 0.8048 - val_loss: 1.3367 - val_accuracy: 0.5480\n",
      "Epoch 16/20\n",
      "125/125 [==============================] - 8s 68ms/step - loss: 0.6025 - accuracy: 0.8183 - val_loss: 1.3462 - val_accuracy: 0.5440\n",
      "Epoch 17/20\n",
      "125/125 [==============================] - 8s 67ms/step - loss: 0.5531 - accuracy: 0.8447 - val_loss: 1.3413 - val_accuracy: 0.5580\n",
      "Epoch 18/20\n",
      "125/125 [==============================] - 8s 67ms/step - loss: 0.5299 - accuracy: 0.8447 - val_loss: 1.4114 - val_accuracy: 0.5560\n",
      "Epoch 19/20\n",
      "125/125 [==============================] - 8s 67ms/step - loss: 0.4863 - accuracy: 0.8698 - val_loss: 1.3429 - val_accuracy: 0.5720\n",
      "Epoch 20/20\n",
      "125/125 [==============================] - 8s 66ms/step - loss: 0.4571 - accuracy: 0.8805 - val_loss: 1.3987 - val_accuracy: 0.5460\n",
      "8/8 [==============================] - 0s 18ms/step - loss: 1.3298 - accuracy: 0.5640\n"
     ]
    },
    {
     "data": {
      "text/plain": [
       "0.5640000104904175"
      ]
     },
     "execution_count": 60,
     "metadata": {},
     "output_type": "execute_result"
    }
   ],
   "source": [
    "Model_7 = YourModel(name='network1',\n",
    "                     feature_maps=32,\n",
    "                     num_classes=len(data_manager.classes),\n",
    "                     num_blocks=2,\n",
    "                     drop_rate= 0.0, \n",
    "                     batch_norm=True, \n",
    "                     use_skip = True,\n",
    "                     optimizer='adam',\n",
    "                     learning_rate= 0.0001)\n",
    "Model_7.build_cnn()\n",
    "Model_7.fit(data_manager, batch_size=32, num_epochs=20)\n",
    "Model_7.compute_accuracy(data_manager.X_test, data_manager.y_test)"
   ]
  },
  {
   "cell_type": "code",
   "execution_count": 61,
   "id": "8913478e",
   "metadata": {},
   "outputs": [
    {
     "name": "stdout",
     "output_type": "stream",
     "text": [
      "Epoch 1/20\n",
      "125/125 [==============================] - 11s 92ms/step - loss: 1.9274 - accuracy: 0.3225 - val_loss: 1.6668 - val_accuracy: 0.4360\n",
      "Epoch 2/20\n",
      "125/125 [==============================] - 11s 91ms/step - loss: 1.4988 - accuracy: 0.4950 - val_loss: 1.5405 - val_accuracy: 0.4900\n",
      "Epoch 3/20\n",
      "125/125 [==============================] - 11s 90ms/step - loss: 1.2832 - accuracy: 0.5753 - val_loss: 1.3992 - val_accuracy: 0.5060\n",
      "Epoch 4/20\n",
      "125/125 [==============================] - 11s 91ms/step - loss: 1.1217 - accuracy: 0.6252 - val_loss: 1.3379 - val_accuracy: 0.5280\n",
      "Epoch 5/20\n",
      "125/125 [==============================] - 11s 91ms/step - loss: 0.9892 - accuracy: 0.6795 - val_loss: 1.3092 - val_accuracy: 0.5500\n",
      "Epoch 6/20\n",
      "125/125 [==============================] - 11s 91ms/step - loss: 0.8771 - accuracy: 0.7193 - val_loss: 1.3432 - val_accuracy: 0.5640\n",
      "Epoch 7/20\n",
      "125/125 [==============================] - 11s 91ms/step - loss: 0.7735 - accuracy: 0.7592 - val_loss: 1.2484 - val_accuracy: 0.5660\n",
      "Epoch 8/20\n",
      "125/125 [==============================] - 11s 92ms/step - loss: 0.7030 - accuracy: 0.7760 - val_loss: 1.2792 - val_accuracy: 0.5720\n",
      "Epoch 9/20\n",
      "125/125 [==============================] - 12s 98ms/step - loss: 0.6027 - accuracy: 0.8267 - val_loss: 1.2295 - val_accuracy: 0.5960\n",
      "Epoch 10/20\n",
      "125/125 [==============================] - 12s 96ms/step - loss: 0.5533 - accuracy: 0.8410 - val_loss: 1.2462 - val_accuracy: 0.5780\n",
      "Epoch 11/20\n",
      "125/125 [==============================] - 12s 100ms/step - loss: 0.4855 - accuracy: 0.8698 - val_loss: 1.2857 - val_accuracy: 0.5760\n",
      "Epoch 12/20\n",
      "125/125 [==============================] - 12s 100ms/step - loss: 0.4156 - accuracy: 0.8975 - val_loss: 1.2792 - val_accuracy: 0.5880\n",
      "Epoch 13/20\n",
      "125/125 [==============================] - 12s 99ms/step - loss: 0.3737 - accuracy: 0.9097 - val_loss: 1.3011 - val_accuracy: 0.6160\n",
      "Epoch 14/20\n",
      "125/125 [==============================] - 12s 99ms/step - loss: 0.3280 - accuracy: 0.9245 - val_loss: 1.2525 - val_accuracy: 0.6000\n",
      "Epoch 15/20\n",
      "125/125 [==============================] - 12s 94ms/step - loss: 0.2822 - accuracy: 0.9423 - val_loss: 1.2606 - val_accuracy: 0.6240\n",
      "Epoch 16/20\n",
      "125/125 [==============================] - 12s 97ms/step - loss: 0.2558 - accuracy: 0.9477 - val_loss: 1.2488 - val_accuracy: 0.6180\n",
      "Epoch 17/20\n",
      "125/125 [==============================] - 12s 97ms/step - loss: 0.2130 - accuracy: 0.9617 - val_loss: 1.2672 - val_accuracy: 0.6280\n",
      "Epoch 18/20\n",
      "125/125 [==============================] - 12s 98ms/step - loss: 0.1930 - accuracy: 0.9682 - val_loss: 1.4177 - val_accuracy: 0.5960\n",
      "Epoch 19/20\n",
      "125/125 [==============================] - 12s 93ms/step - loss: 0.1610 - accuracy: 0.9803 - val_loss: 1.3688 - val_accuracy: 0.6060\n",
      "Epoch 20/20\n",
      "125/125 [==============================] - 12s 94ms/step - loss: 0.1409 - accuracy: 0.9830 - val_loss: 1.3787 - val_accuracy: 0.5960\n",
      "8/8 [==============================] - 0s 24ms/step - loss: 1.2729 - accuracy: 0.6160\n"
     ]
    },
    {
     "data": {
      "text/plain": [
       "0.6159999966621399"
      ]
     },
     "execution_count": 61,
     "metadata": {},
     "output_type": "execute_result"
    }
   ],
   "source": [
    "Model_8 = YourModel(name='network1',\n",
    "                     feature_maps=32,\n",
    "                     num_classes=len(data_manager.classes),\n",
    "                     num_blocks=3,\n",
    "                     drop_rate= 0.0, \n",
    "                     batch_norm=True, \n",
    "                     use_skip = True,\n",
    "                     optimizer='adam',\n",
    "                     learning_rate= 0.0001)\n",
    "Model_8.build_cnn()\n",
    "Model_8.fit(data_manager, batch_size=32, num_epochs=20)\n",
    "Model_8.compute_accuracy(data_manager.X_test, data_manager.y_test)"
   ]
  },
  {
   "cell_type": "code",
   "execution_count": 62,
   "id": "443cecc0",
   "metadata": {},
   "outputs": [
    {
     "name": "stdout",
     "output_type": "stream",
     "text": [
      "Epoch 1/20\n",
      "125/125 [==============================] - 15s 117ms/step - loss: 1.8436 - accuracy: 0.3580 - val_loss: 1.5654 - val_accuracy: 0.4720\n",
      "Epoch 2/20\n",
      "125/125 [==============================] - 14s 113ms/step - loss: 1.3771 - accuracy: 0.5332 - val_loss: 1.4445 - val_accuracy: 0.5360\n",
      "Epoch 3/20\n",
      "125/125 [==============================] - 14s 113ms/step - loss: 1.1112 - accuracy: 0.6215 - val_loss: 1.3568 - val_accuracy: 0.5300\n",
      "Epoch 4/20\n",
      "125/125 [==============================] - 14s 112ms/step - loss: 0.8921 - accuracy: 0.7097 - val_loss: 1.2750 - val_accuracy: 0.5520\n",
      "Epoch 5/20\n",
      "125/125 [==============================] - 14s 112ms/step - loss: 0.7197 - accuracy: 0.7692 - val_loss: 1.3382 - val_accuracy: 0.5300\n",
      "Epoch 6/20\n",
      "125/125 [==============================] - 14s 112ms/step - loss: 0.5644 - accuracy: 0.8332 - val_loss: 1.3197 - val_accuracy: 0.5540\n",
      "Epoch 7/20\n",
      "125/125 [==============================] - 14s 112ms/step - loss: 0.4218 - accuracy: 0.8805 - val_loss: 1.3524 - val_accuracy: 0.5480\n",
      "Epoch 8/20\n",
      "125/125 [==============================] - 14s 111ms/step - loss: 0.3182 - accuracy: 0.9168 - val_loss: 1.3444 - val_accuracy: 0.5800\n",
      "Epoch 9/20\n",
      "125/125 [==============================] - 14s 112ms/step - loss: 0.2018 - accuracy: 0.9597 - val_loss: 1.3291 - val_accuracy: 0.5960\n",
      "Epoch 10/20\n",
      "125/125 [==============================] - 14s 113ms/step - loss: 0.1607 - accuracy: 0.9675 - val_loss: 1.3554 - val_accuracy: 0.5980\n",
      "Epoch 11/20\n",
      "125/125 [==============================] - 14s 113ms/step - loss: 0.1103 - accuracy: 0.9830 - val_loss: 1.4557 - val_accuracy: 0.5540\n",
      "Epoch 12/20\n",
      "125/125 [==============================] - 14s 112ms/step - loss: 0.1004 - accuracy: 0.9800 - val_loss: 1.6332 - val_accuracy: 0.5580\n",
      "Epoch 13/20\n",
      "125/125 [==============================] - 14s 112ms/step - loss: 0.0732 - accuracy: 0.9880 - val_loss: 1.5268 - val_accuracy: 0.6060\n",
      "Epoch 14/20\n",
      "125/125 [==============================] - 14s 112ms/step - loss: 0.0488 - accuracy: 0.9945 - val_loss: 1.4653 - val_accuracy: 0.5800\n",
      "Epoch 15/20\n",
      "125/125 [==============================] - 14s 111ms/step - loss: 0.0321 - accuracy: 0.9973 - val_loss: 1.5366 - val_accuracy: 0.5640\n",
      "Epoch 16/20\n",
      "125/125 [==============================] - 14s 111ms/step - loss: 0.0502 - accuracy: 0.9923 - val_loss: 1.6771 - val_accuracy: 0.5980\n",
      "Epoch 17/20\n",
      "125/125 [==============================] - 14s 111ms/step - loss: 0.0281 - accuracy: 0.9980 - val_loss: 1.6958 - val_accuracy: 0.5720\n",
      "Epoch 18/20\n",
      "125/125 [==============================] - 14s 112ms/step - loss: 0.0341 - accuracy: 0.9958 - val_loss: 1.6579 - val_accuracy: 0.5800\n",
      "Epoch 19/20\n",
      "125/125 [==============================] - 14s 115ms/step - loss: 0.0233 - accuracy: 0.9980 - val_loss: 1.6185 - val_accuracy: 0.5820\n",
      "Epoch 20/20\n",
      "125/125 [==============================] - 14s 112ms/step - loss: 0.0317 - accuracy: 0.9935 - val_loss: 1.8097 - val_accuracy: 0.5740\n",
      "8/8 [==============================] - 0s 30ms/step - loss: 1.8036 - accuracy: 0.5800\n"
     ]
    },
    {
     "data": {
      "text/plain": [
       "0.5799999833106995"
      ]
     },
     "execution_count": 62,
     "metadata": {},
     "output_type": "execute_result"
    }
   ],
   "source": [
    "Model_9 = YourModel(name='network1',\n",
    "                     feature_maps=32,\n",
    "                     num_classes=len(data_manager.classes),\n",
    "                     num_blocks=4,\n",
    "                     drop_rate= 0.0, \n",
    "                     batch_norm=True, \n",
    "                     use_skip = True,\n",
    "                     optimizer='adam',\n",
    "                     learning_rate= 0.0001)\n",
    "Model_9.build_cnn()\n",
    "Model_9.fit(data_manager, batch_size=32, num_epochs=20)\n",
    "Model_9.compute_accuracy(data_manager.X_test, data_manager.y_test)"
   ]
  },
  {
   "cell_type": "code",
   "execution_count": 63,
   "id": "40fd4d01",
   "metadata": {},
   "outputs": [
    {
     "name": "stdout",
     "output_type": "stream",
     "text": [
      "Epoch 1/20\n",
      "125/125 [==============================] - 14s 115ms/step - loss: 2.3052 - accuracy: 0.3487 - val_loss: 2.1078 - val_accuracy: 0.4040\n",
      "Epoch 2/20\n",
      "125/125 [==============================] - 14s 114ms/step - loss: 0.9281 - accuracy: 0.7015 - val_loss: 1.9721 - val_accuracy: 0.4460\n",
      "Epoch 3/20\n",
      "125/125 [==============================] - 14s 114ms/step - loss: 0.4130 - accuracy: 0.8845 - val_loss: 2.0005 - val_accuracy: 0.4500\n",
      "Epoch 4/20\n",
      "125/125 [==============================] - 14s 113ms/step - loss: 0.1904 - accuracy: 0.9668 - val_loss: 2.0086 - val_accuracy: 0.4460\n",
      "Epoch 5/20\n",
      "125/125 [==============================] - 14s 113ms/step - loss: 0.0894 - accuracy: 0.9948 - val_loss: 1.9586 - val_accuracy: 0.4640\n",
      "Epoch 6/20\n",
      "125/125 [==============================] - 14s 113ms/step - loss: 0.0541 - accuracy: 0.9973 - val_loss: 1.9808 - val_accuracy: 0.4820\n",
      "Epoch 7/20\n",
      "125/125 [==============================] - 14s 113ms/step - loss: 0.0359 - accuracy: 0.9992 - val_loss: 2.0257 - val_accuracy: 0.4620\n",
      "Epoch 8/20\n",
      "125/125 [==============================] - 14s 114ms/step - loss: 0.0272 - accuracy: 0.9995 - val_loss: 2.0417 - val_accuracy: 0.4700\n",
      "Epoch 9/20\n",
      "125/125 [==============================] - 14s 114ms/step - loss: 0.0211 - accuracy: 0.9995 - val_loss: 2.0389 - val_accuracy: 0.4860\n",
      "Epoch 10/20\n",
      "125/125 [==============================] - 14s 114ms/step - loss: 0.0192 - accuracy: 0.9992 - val_loss: 2.0507 - val_accuracy: 0.4820\n",
      "Epoch 11/20\n",
      "125/125 [==============================] - 14s 114ms/step - loss: 0.0152 - accuracy: 0.9992 - val_loss: 2.1100 - val_accuracy: 0.4780\n",
      "Epoch 12/20\n",
      "125/125 [==============================] - 14s 114ms/step - loss: 0.0121 - accuracy: 1.0000 - val_loss: 2.0800 - val_accuracy: 0.4840\n",
      "Epoch 13/20\n",
      "125/125 [==============================] - 14s 113ms/step - loss: 0.0112 - accuracy: 0.9995 - val_loss: 2.1119 - val_accuracy: 0.4800\n",
      "Epoch 14/20\n",
      "125/125 [==============================] - 14s 114ms/step - loss: 0.0108 - accuracy: 0.9995 - val_loss: 2.0982 - val_accuracy: 0.4860\n",
      "Epoch 15/20\n",
      "125/125 [==============================] - 14s 114ms/step - loss: 0.0086 - accuracy: 0.9992 - val_loss: 2.1764 - val_accuracy: 0.4860\n",
      "Epoch 16/20\n",
      "125/125 [==============================] - 14s 115ms/step - loss: 0.0116 - accuracy: 0.9992 - val_loss: 2.1193 - val_accuracy: 0.4720\n",
      "Epoch 17/20\n",
      "125/125 [==============================] - 15s 117ms/step - loss: 0.0076 - accuracy: 0.9998 - val_loss: 2.1385 - val_accuracy: 0.4800\n",
      "Epoch 18/20\n",
      "125/125 [==============================] - 14s 114ms/step - loss: 0.0060 - accuracy: 0.9998 - val_loss: 2.2434 - val_accuracy: 0.4800\n",
      "Epoch 19/20\n",
      "125/125 [==============================] - 14s 115ms/step - loss: 0.0058 - accuracy: 1.0000 - val_loss: 2.1722 - val_accuracy: 0.5080\n",
      "Epoch 20/20\n",
      "125/125 [==============================] - 14s 114ms/step - loss: 0.0043 - accuracy: 1.0000 - val_loss: 2.1687 - val_accuracy: 0.4980\n",
      "8/8 [==============================] - 0s 24ms/step - loss: 2.1111 - accuracy: 0.5080\n"
     ]
    },
    {
     "data": {
      "text/plain": [
       "0.5080000162124634"
      ]
     },
     "execution_count": 63,
     "metadata": {},
     "output_type": "execute_result"
    }
   ],
   "source": [
    "Model_10 = YourModel(name='network1',\n",
    "                     feature_maps=32,\n",
    "                     num_classes=len(data_manager.classes),\n",
    "                     num_blocks=2,\n",
    "                     drop_rate= 0.0, \n",
    "                     batch_norm=True, \n",
    "                     use_skip = False,\n",
    "                     optimizer='adam',\n",
    "                     learning_rate= 0.0001)\n",
    "Model_10.build_cnn()\n",
    "Model_10.fit(data_manager, batch_size=32, num_epochs=20)\n",
    "Model_10.compute_accuracy(data_manager.X_test, data_manager.y_test)"
   ]
  },
  {
   "cell_type": "code",
   "execution_count": 64,
   "id": "8d2e831a",
   "metadata": {},
   "outputs": [
    {
     "name": "stdout",
     "output_type": "stream",
     "text": [
      "Epoch 1/20\n",
      "125/125 [==============================] - 39s 308ms/step - loss: 2.6837 - accuracy: 0.3575 - val_loss: 2.4668 - val_accuracy: 0.3920\n",
      "Epoch 2/20\n",
      "125/125 [==============================] - 37s 295ms/step - loss: 0.5262 - accuracy: 0.8325 - val_loss: 2.3345 - val_accuracy: 0.4340\n",
      "Epoch 3/20\n",
      "125/125 [==============================] - 37s 293ms/step - loss: 0.1276 - accuracy: 0.9697 - val_loss: 2.4141 - val_accuracy: 0.4280\n",
      "Epoch 4/20\n",
      "125/125 [==============================] - 37s 294ms/step - loss: 0.0441 - accuracy: 0.9927 - val_loss: 2.3235 - val_accuracy: 0.4320\n",
      "Epoch 5/20\n",
      "125/125 [==============================] - 37s 295ms/step - loss: 0.0190 - accuracy: 0.9983 - val_loss: 2.2627 - val_accuracy: 0.4360\n",
      "Epoch 6/20\n",
      "125/125 [==============================] - 37s 293ms/step - loss: 0.0111 - accuracy: 0.9992 - val_loss: 2.2620 - val_accuracy: 0.4400\n",
      "Epoch 7/20\n",
      "125/125 [==============================] - 37s 294ms/step - loss: 0.0084 - accuracy: 0.9995 - val_loss: 2.2790 - val_accuracy: 0.4560\n",
      "Epoch 8/20\n",
      "125/125 [==============================] - 37s 294ms/step - loss: 0.0062 - accuracy: 0.9995 - val_loss: 2.2704 - val_accuracy: 0.4520\n",
      "Epoch 9/20\n",
      "125/125 [==============================] - 37s 294ms/step - loss: 0.0066 - accuracy: 0.9998 - val_loss: 2.2603 - val_accuracy: 0.4560\n",
      "Epoch 10/20\n",
      "125/125 [==============================] - 37s 293ms/step - loss: 0.0071 - accuracy: 0.9990 - val_loss: 2.2603 - val_accuracy: 0.4740\n",
      "Epoch 11/20\n",
      "125/125 [==============================] - 37s 294ms/step - loss: 0.0054 - accuracy: 0.9995 - val_loss: 2.3547 - val_accuracy: 0.4480\n",
      "Epoch 12/20\n",
      "125/125 [==============================] - 37s 295ms/step - loss: 0.0034 - accuracy: 1.0000 - val_loss: 2.2724 - val_accuracy: 0.4660\n",
      "Epoch 13/20\n",
      "125/125 [==============================] - 37s 293ms/step - loss: 0.0039 - accuracy: 0.9995 - val_loss: 2.2903 - val_accuracy: 0.4720\n",
      "Epoch 14/20\n",
      "125/125 [==============================] - 37s 294ms/step - loss: 0.0026 - accuracy: 1.0000 - val_loss: 2.2551 - val_accuracy: 0.4680\n",
      "Epoch 15/20\n",
      "125/125 [==============================] - 37s 294ms/step - loss: 0.0021 - accuracy: 1.0000 - val_loss: 2.3217 - val_accuracy: 0.4460\n",
      "Epoch 16/20\n",
      "125/125 [==============================] - 37s 293ms/step - loss: 0.0020 - accuracy: 1.0000 - val_loss: 2.2697 - val_accuracy: 0.4660\n",
      "Epoch 17/20\n",
      "125/125 [==============================] - 37s 297ms/step - loss: 0.0027 - accuracy: 0.9995 - val_loss: 2.3188 - val_accuracy: 0.4580\n",
      "Epoch 18/20\n",
      "125/125 [==============================] - 37s 294ms/step - loss: 0.0027 - accuracy: 0.9995 - val_loss: 2.3972 - val_accuracy: 0.4620\n",
      "Epoch 19/20\n",
      "125/125 [==============================] - 37s 293ms/step - loss: 0.0020 - accuracy: 0.9998 - val_loss: 2.3629 - val_accuracy: 0.4640\n",
      "Epoch 20/20\n",
      "125/125 [==============================] - 37s 294ms/step - loss: 0.0014 - accuracy: 1.0000 - val_loss: 2.3543 - val_accuracy: 0.4660\n",
      "8/8 [==============================] - 1s 74ms/step - loss: 2.2275 - accuracy: 0.4800\n"
     ]
    },
    {
     "data": {
      "text/plain": [
       "0.47999998927116394"
      ]
     },
     "execution_count": 64,
     "metadata": {},
     "output_type": "execute_result"
    }
   ],
   "source": [
    "Model_11 = YourModel(name='network1',\n",
    "                     feature_maps=32,\n",
    "                     num_classes=len(data_manager.classes),\n",
    "                     num_blocks=3,\n",
    "                     drop_rate= 0.0, \n",
    "                     batch_norm=True, \n",
    "                     use_skip = False,\n",
    "                     optimizer='adam',\n",
    "                     learning_rate= 0.0001)\n",
    "Model_11.build_cnn()\n",
    "Model_11.fit(data_manager, batch_size=32, num_epochs=20)\n",
    "Model_11.compute_accuracy(data_manager.X_test, data_manager.y_test)"
   ]
  },
  {
   "cell_type": "code",
   "execution_count": 65,
   "id": "0958b0b2",
   "metadata": {},
   "outputs": [
    {
     "name": "stdout",
     "output_type": "stream",
     "text": [
      "Epoch 1/20\n",
      "125/125 [==============================] - 105s 839ms/step - loss: 3.4199 - accuracy: 0.3507 - val_loss: 3.2023 - val_accuracy: 0.3860\n",
      "Epoch 2/20\n",
      "125/125 [==============================] - 105s 839ms/step - loss: 0.4039 - accuracy: 0.8850 - val_loss: 3.0285 - val_accuracy: 0.4280\n",
      "Epoch 3/20\n",
      "125/125 [==============================] - 107s 856ms/step - loss: 0.0825 - accuracy: 0.9780 - val_loss: 2.9823 - val_accuracy: 0.4200\n",
      "Epoch 4/20\n",
      "125/125 [==============================] - 106s 852ms/step - loss: 0.0342 - accuracy: 0.9935 - val_loss: 2.9396 - val_accuracy: 0.4560\n",
      "Epoch 5/20\n",
      "125/125 [==============================] - 107s 854ms/step - loss: 0.0150 - accuracy: 0.9962 - val_loss: 2.9442 - val_accuracy: 0.4320\n",
      "Epoch 6/20\n",
      "125/125 [==============================] - 110s 880ms/step - loss: 0.0123 - accuracy: 0.9980 - val_loss: 3.0413 - val_accuracy: 0.4380\n",
      "Epoch 7/20\n",
      "125/125 [==============================] - 107s 859ms/step - loss: 0.0065 - accuracy: 0.9995 - val_loss: 2.9548 - val_accuracy: 0.4260\n",
      "Epoch 8/20\n",
      "125/125 [==============================] - 106s 850ms/step - loss: 0.0016 - accuracy: 1.0000 - val_loss: 2.9413 - val_accuracy: 0.4300\n",
      "Epoch 9/20\n",
      "125/125 [==============================] - 107s 853ms/step - loss: 0.0010 - accuracy: 1.0000 - val_loss: 2.8770 - val_accuracy: 0.4320\n",
      "Epoch 10/20\n",
      "125/125 [==============================] - 107s 857ms/step - loss: 0.0063 - accuracy: 0.9987 - val_loss: 2.9436 - val_accuracy: 0.4520\n",
      "Epoch 11/20\n",
      "125/125 [==============================] - 104s 834ms/step - loss: 0.0056 - accuracy: 0.9995 - val_loss: 2.9835 - val_accuracy: 0.4340\n",
      "Epoch 12/20\n",
      "125/125 [==============================] - 102s 812ms/step - loss: 0.0075 - accuracy: 0.9985 - val_loss: 2.9608 - val_accuracy: 0.4420\n",
      "Epoch 13/20\n",
      "125/125 [==============================] - 102s 815ms/step - loss: 0.0033 - accuracy: 0.9987 - val_loss: 2.9088 - val_accuracy: 0.4420\n",
      "Epoch 14/20\n",
      "125/125 [==============================] - 102s 816ms/step - loss: 7.9649e-04 - accuracy: 1.0000 - val_loss: 2.8382 - val_accuracy: 0.4560\n",
      "Epoch 15/20\n",
      "125/125 [==============================] - 102s 817ms/step - loss: 8.4692e-04 - accuracy: 1.0000 - val_loss: 2.8933 - val_accuracy: 0.4660\n",
      "Epoch 16/20\n",
      "125/125 [==============================] - 102s 816ms/step - loss: 7.1752e-04 - accuracy: 1.0000 - val_loss: 2.8558 - val_accuracy: 0.4680\n",
      "Epoch 17/20\n",
      "125/125 [==============================] - 103s 822ms/step - loss: 3.9653e-04 - accuracy: 1.0000 - val_loss: 2.8473 - val_accuracy: 0.4600\n",
      "Epoch 18/20\n",
      "125/125 [==============================] - 104s 834ms/step - loss: 3.0424e-04 - accuracy: 1.0000 - val_loss: 2.8896 - val_accuracy: 0.4740\n",
      "Epoch 19/20\n",
      "125/125 [==============================] - 103s 824ms/step - loss: 2.7643e-04 - accuracy: 1.0000 - val_loss: 2.8478 - val_accuracy: 0.4700\n",
      "Epoch 20/20\n",
      "125/125 [==============================] - 103s 824ms/step - loss: 2.7767e-04 - accuracy: 1.0000 - val_loss: 2.8459 - val_accuracy: 0.4640\n",
      "8/8 [==============================] - 2s 238ms/step - loss: 2.7191 - accuracy: 0.4740\n"
     ]
    },
    {
     "data": {
      "text/plain": [
       "0.4740000069141388"
      ]
     },
     "execution_count": 65,
     "metadata": {},
     "output_type": "execute_result"
    }
   ],
   "source": [
    "Model_12 = YourModel(name='network1',\n",
    "                     feature_maps=32,\n",
    "                     num_classes=len(data_manager.classes),\n",
    "                     num_blocks=4,\n",
    "                     drop_rate= 0.0, \n",
    "                     batch_norm=True, \n",
    "                     use_skip = False,\n",
    "                     optimizer='adam',\n",
    "                     learning_rate= 0.0001)\n",
    "Model_12.build_cnn()\n",
    "Model_12.fit(data_manager, batch_size=32, num_epochs=20)\n",
    "Model_12.compute_accuracy(data_manager.X_test, data_manager.y_test)"
   ]
  },
  {
   "cell_type": "markdown",
   "id": "60beabf6",
   "metadata": {},
   "source": [
    "<span style=\"color:red\">**Question 3.5**</span> **We now try to apply data augmentation to improve the performance. Extend the code of the class `YourModel` so that if the attribute `is_augmentation` is set to `True`, we apply the data augmentation. Also you need to incorporate early stopping to your training process. Specifically, you early stop the training if the valid accuracy cannot increase in three consecutive epochs.**\n",
    "   \n",
    "<div style=\"text-align: right\"> <span style=\"color:red\">[4 points]</span> </div>\n"
   ]
  },
  {
   "cell_type": "code",
   "execution_count": 80,
   "id": "969566ac",
   "metadata": {},
   "outputs": [],
   "source": [
    "from tensorflow.keras.preprocessing.image import ImageDataGenerator\n",
    "from tensorflow.keras.callbacks import EarlyStopping"
   ]
  },
  {
   "cell_type": "markdown",
   "id": "19e5fb90",
   "metadata": {},
   "source": [
    "Wtire your code in the cell below. Hint that you can rewrite the code of the `fit` method to apply the data augmentation. In addition, you can copy the code of `build_cnn` method above to reuse here."
   ]
  },
  {
   "cell_type": "code",
   "execution_count": 81,
   "id": "9ad1746e",
   "metadata": {},
   "outputs": [],
   "source": [
    "class YourModel(DefaultModel):\n",
    "    def __init__(self,\n",
    "                 name='network1',\n",
    "                 width=32, height=32, depth=3,\n",
    "                 num_blocks=2,\n",
    "                 feature_maps=32,\n",
    "                 num_classes=4, \n",
    "                 drop_rate=0.2,\n",
    "                 batch_norm = None,\n",
    "                 is_augmentation = False,\n",
    "                 activation_func='relu',\n",
    "                 use_skip = True,\n",
    "                 optimizer='adam',\n",
    "                 batch_size=10,\n",
    "                 num_epochs= 20,\n",
    "                 learning_rate=0.0001):\n",
    "        super(YourModel, self).__init__(name, width, height, depth, num_blocks, feature_maps, num_classes, drop_rate, batch_norm, is_augmentation, \n",
    "                                        activation_func, use_skip, optimizer, batch_size, num_epochs, learning_rate)\n",
    "    \n",
    "    def build_cnn(self):\n",
    "        #reuse code of previous section here\n",
    "        P=Input(shape=(32, 32, 3))\n",
    "        A=Input(shape=(32, 32, 3))\n",
    "        for i in range(self.num_blocks):\n",
    "            if i==0:\n",
    "                M=layers.Conv2D(self.feature_maps[i], (3,3), padding='same')(P)\n",
    "                x=layers.Conv2D(self.feature_maps[i], (3,3), padding='same')(P)\n",
    "            if i!=0:\n",
    "                M=layers.Conv2D(self.feature_maps[i], (3,3), padding='same')(M)\n",
    "                x=layers.Conv2D(self.feature_maps[i], (3,3), padding='same')(M)\n",
    "            if self.batch_norm == True:\n",
    "                M=layers.BatchNormalization(momentum=0.9)(M)\n",
    "                M=layers.Activation(self.activation_func)(M)\n",
    "                M=layers.Conv2D(self.feature_maps[i], (3,3), padding='same')(M)\n",
    "            if self.batch_norm == True:\n",
    "                y=layers.BatchNormalization(momentum=0.9)(M)\n",
    "                M=layers.BatchNormalization(momentum=0.9)(M)\n",
    "                if self.use_skip == True:\n",
    "                    x=layers.Add()([x, y])\n",
    "                    M=layers.Activation(self.activation_func)(x)\n",
    "                    M=layers.AveragePooling2D(pool_size=(2, 2), padding='same')(M)\n",
    "                    M=layers.Dropout(rate=self.drop_rate)(M)\n",
    "            if self.batch_norm == False:\n",
    "                z=layers.Conv2D(self.feature_maps[i], (3,3), padding='same')(M)\n",
    "                if self.use_skip == True:\n",
    "                    x=layers.Add()([x, z])\n",
    "                    M=layers.Activation(self.activation_func)(x)\n",
    "                    M=layers.AveragePooling2D(pool_size=(2, 2), padding='same')(M)\n",
    "                    M=layers.Dropout(rate=self.drop_rate)(M)\n",
    "        M=layers.Flatten()(M)\n",
    "        M=layers.Dense(self.num_classes, activation='softmax')(M)\n",
    "        self.model=M\n",
    "        self.model=tf.keras.Model(P,M)\n",
    "        self.model.compile(optimizer=self.optimizer, loss='sparse_categorical_crossentropy', metrics=['accuracy'])\n",
    "\n",
    "    \n",
    "    def fit(self, data_manager, batch_size=None, num_epochs=None):\n",
    "        #insert your code here\n",
    "        early_checkpoint = EarlyStopping(patience=3, monitor='val_accuracy', mode='auto')\n",
    "        callbacks = [early_checkpoint]\n",
    "        if self.is_augmentation == True: \n",
    "            datagen = ImageDataGenerator(horizontal_flip=True,\n",
    "                                         width_shift_range=0.1,height_shift_range=0.1,rotation_range=5,shear_range=0.1,zoom_range=0.1,fill_mode=\"nearest\")\n",
    "            batch_size = self.batch_size if batch_size is None else batch_size\n",
    "            num_epochs = self.num_epochs if num_epochs is None else num_epochs\n",
    "            self.model.compile(optimizer=self.optimizer, loss='sparse_categorical_crossentropy', metrics=['accuracy'])\n",
    "            self.history = self.model.fit(datagen.flow(x = data_manager.X_train, \n",
    "                                                       y = data_manager.y_train, \n",
    "                                                       batch_size = batch_size), validation_data=datagen.flow(data_manager.X_valid, data_manager.y_valid,\n",
    "                                                                       batch_size=batch_size),\n",
    "                                                       epochs = num_epochs, \n",
    "                                                       verbose= self.verbose,\n",
    "                                                       callbacks = callbacks)\n",
    "        else:\n",
    "            batch_size = self.batch_size if batch_size is None else batch_size\n",
    "            num_epochs = self.num_epochs if num_epochs is None else num_epochs\n",
    "            self.model.compile(optimizer=self.optimizer, loss='sparse_categorical_crossentropy', metrics=['accuracy'])\n",
    "            self.history = self.model.fit(x = data_manager.X_train, y = data_manager.y_train, validation_data = (data_manager.X_valid, data_manager.y_valid),\n",
    "                                          epochs = num_epochs, batch_size = batch_size, verbose= self.verbose,callbacks = callbacks)"
   ]
  },
  {
   "cell_type": "markdown",
   "id": "5c4f0df3",
   "metadata": {},
   "source": [
    "<span style=\"color:red\">**Question 3.6**</span> **Leverage your best model with the data augmentation and try to observe the difference in performance between using data augmentation and non-using it.**\n",
    "   \n",
    "<div style=\"text-align: right\"> <span style=\"color:red\">[4 points]</span> </div>"
   ]
  },
  {
   "cell_type": "markdown",
   "id": "8f46b86c",
   "metadata": {},
   "source": [
    "#*Write your answer and observation here*\n",
    "\n",
    "The using of data augmentation improve the accuracy of our model"
   ]
  },
  {
   "cell_type": "code",
   "execution_count": 74,
   "id": "2c8e8b43",
   "metadata": {},
   "outputs": [
    {
     "name": "stdout",
     "output_type": "stream",
     "text": [
      "Epoch 1/20\n",
      "125/125 [==============================] - 16s 130ms/step - loss: 2.0158 - accuracy: 0.3045 - val_loss: 1.9107 - val_accuracy: 0.3740\n",
      "Epoch 2/20\n",
      "125/125 [==============================] - 16s 127ms/step - loss: 1.6406 - accuracy: 0.4168 - val_loss: 1.6498 - val_accuracy: 0.4320\n",
      "Epoch 3/20\n",
      "125/125 [==============================] - 17s 132ms/step - loss: 1.4486 - accuracy: 0.4915 - val_loss: 1.4575 - val_accuracy: 0.4940\n",
      "Epoch 4/20\n",
      "125/125 [==============================] - 16s 129ms/step - loss: 1.3262 - accuracy: 0.5385 - val_loss: 1.3160 - val_accuracy: 0.5120\n",
      "Epoch 5/20\n",
      "125/125 [==============================] - 16s 129ms/step - loss: 1.2226 - accuracy: 0.5780 - val_loss: 1.4189 - val_accuracy: 0.5320\n",
      "Epoch 6/20\n",
      "125/125 [==============================] - 16s 125ms/step - loss: 1.1585 - accuracy: 0.5928 - val_loss: 1.3395 - val_accuracy: 0.5620\n",
      "Epoch 7/20\n",
      "125/125 [==============================] - 17s 133ms/step - loss: 1.1021 - accuracy: 0.6258 - val_loss: 1.1908 - val_accuracy: 0.5640\n",
      "Epoch 8/20\n",
      "125/125 [==============================] - 16s 128ms/step - loss: 1.0207 - accuracy: 0.6503 - val_loss: 1.3550 - val_accuracy: 0.5460\n",
      "Epoch 9/20\n",
      "125/125 [==============================] - 16s 128ms/step - loss: 0.9774 - accuracy: 0.6585 - val_loss: 1.2363 - val_accuracy: 0.5900\n",
      "Epoch 10/20\n",
      "125/125 [==============================] - 16s 132ms/step - loss: 0.9390 - accuracy: 0.6700 - val_loss: 1.1093 - val_accuracy: 0.6320\n",
      "Epoch 11/20\n",
      "125/125 [==============================] - 15s 123ms/step - loss: 0.8836 - accuracy: 0.6927 - val_loss: 1.2035 - val_accuracy: 0.5840\n",
      "Epoch 12/20\n",
      "125/125 [==============================] - 15s 123ms/step - loss: 0.8533 - accuracy: 0.7023 - val_loss: 1.4226 - val_accuracy: 0.5660\n",
      "Epoch 13/20\n",
      "125/125 [==============================] - 15s 122ms/step - loss: 0.8162 - accuracy: 0.7168 - val_loss: 1.1544 - val_accuracy: 0.6080\n",
      "8/8 [==============================] - 0s 29ms/step - loss: 1.1659 - accuracy: 0.6200\n"
     ]
    },
    {
     "data": {
      "text/plain": [
       "0.6200000047683716"
      ]
     },
     "execution_count": 74,
     "metadata": {},
     "output_type": "execute_result"
    }
   ],
   "source": [
    "#Insert your code here. You can add more cells if necessary\n",
    "Model_3 = YourModel(name='network1',\n",
    "                     feature_maps=32,\n",
    "                     num_classes=len(data_manager.classes),\n",
    "                     num_blocks=4,\n",
    "                     drop_rate= 0.0, \n",
    "                     batch_norm=True, \n",
    "                     use_skip = True,\n",
    "                     is_augmentation=True,\n",
    "                     optimizer='nadam',\n",
    "                     learning_rate= 0.001)\n",
    "Model_3.build_cnn()\n",
    "Model_3.fit(data_manager, batch_size=32, num_epochs=20)\n",
    "Model_3.compute_accuracy(data_manager.X_test, data_manager.y_test)"
   ]
  },
  {
   "cell_type": "markdown",
   "id": "16815eba",
   "metadata": {},
   "source": [
    "<span style=\"color:red\">**Question 3.7**</span> **Exploring Data Mixup Technique for Improving Generalization Ability.**\n",
    "   \n",
    "<div style=\"text-align: right\"> <span style=\"color:red\">[4 points]</span> </div>\n",
    "\n",
    "Data mixup is another super-simple technique used to boost the generalization ability of deep learning models. You need to incoroporate data mixup technique to the above deep learning model and experiment its performance. There are some papers and documents for data mixup as follows:\n",
    "- Main paper for data mixup [link for main paper](https://openreview.net/pdf?id=r1Ddp1-Rb) and a good article [article link](https://www.inference.vc/mixup-data-dependent-data-augmentation/).\n",
    "\n",
    "You need to extend your model developed above, train a model using data mixup, and write your observations and comments about the result."
   ]
  },
  {
   "cell_type": "markdown",
   "id": "409c43dc",
   "metadata": {},
   "source": [
    "#*Write your answer and observation here*\n",
    "\n",
    "while we apply data mixup to our model, the accuracy of the model will be higher.\n"
   ]
  },
  {
   "cell_type": "code",
   "execution_count": 83,
   "id": "08410e07",
   "metadata": {},
   "outputs": [],
   "source": [
    "#Insert your code here. You can add more cells if necessary\n",
    "def sample_beta_distribution(size, concentration_0=0.2, concentration_1=0.2):\n",
    "    gamma_1_sample = tf.random.gamma(shape=[size], alpha=concentration_1)\n",
    "    gamma_2_sample = tf.random.gamma(shape=[size], alpha=concentration_0)\n",
    "    return gamma_1_sample / (gamma_1_sample + gamma_2_sample)\n",
    "\n",
    "\n",
    "def mix_up(ds_one, ds_two, alpha=0.2):\n",
    "    # Unpack two datasets\n",
    "    images_one, labels_one = ds_one\n",
    "    images_two, labels_two = ds_two\n",
    "    batch_size = tf.shape(images_one)[0]\n",
    "\n",
    "    # Sample lambda and reshape it to do the mixup\n",
    "    l = sample_beta_distribution(batch_size, alpha, alpha)\n",
    "    x_l = tf.reshape(l, (batch_size, 1, 1, 1))\n",
    "    y_l = tf.reshape(l, (batch_size, 1))\n",
    "\n",
    "    # Perform mixup on both images and labels by combining a pair of images/labels\n",
    "    # (one from each dataset) into one image/label\n",
    "    images = images_one * x_l + images_two * (1 - x_l)\n",
    "    labels = labels_one * y_l + labels_two * (1 - y_l)\n",
    "    return (images, labels)"
   ]
  },
  {
   "cell_type": "code",
   "execution_count": 84,
   "id": "86cd7e8d",
   "metadata": {},
   "outputs": [],
   "source": [
    "class YourModel(DefaultModel):\n",
    "    def __init__(self,\n",
    "                 name='network1',\n",
    "                 width=32, height=32, depth=3,\n",
    "                 num_blocks=2,\n",
    "                 feature_maps=32,\n",
    "                 num_classes=4, \n",
    "                 drop_rate=0.2,\n",
    "                 batch_norm = None,\n",
    "                 is_augmentation = False,\n",
    "                 activation_func='relu',\n",
    "                 use_skip = True,\n",
    "                 optimizer='adam',\n",
    "                 batch_size=10,\n",
    "                 num_epochs= 20,\n",
    "                 learning_rate=0.0001):\n",
    "        super(YourModel, self).__init__(name, width, height, depth, num_blocks, feature_maps, num_classes, drop_rate, batch_norm, is_augmentation, \n",
    "                                        activation_func, use_skip, optimizer, batch_size, num_epochs, learning_rate)\n",
    "    \n",
    "    def build_cnn(self):\n",
    "        #reuse code of previous section here\n",
    "        P=Input(shape=(32, 32, 3))\n",
    "        A=Input(shape=(32, 32, 3))\n",
    "        for i in range(self.num_blocks):\n",
    "            if i==0:\n",
    "                M=layers.Conv2D(self.feature_maps[i], (3,3), padding='same')(P)\n",
    "                x=layers.Conv2D(self.feature_maps[i], (3,3), padding='same')(P)\n",
    "            if i!=0:\n",
    "                M=layers.Conv2D(self.feature_maps[i], (3,3), padding='same')(M)\n",
    "                x=layers.Conv2D(self.feature_maps[i], (3,3), padding='same')(M)\n",
    "            if self.batch_norm == True:\n",
    "                M=layers.BatchNormalization(momentum=0.9)(M)\n",
    "                M=layers.Activation(self.activation_func)(M)\n",
    "                M=layers.Conv2D(self.feature_maps[i], (3,3), padding='same')(M)\n",
    "            if self.batch_norm == True:\n",
    "                y=layers.BatchNormalization(momentum=0.9)(M)\n",
    "                M=layers.BatchNormalization(momentum=0.9)(M)\n",
    "                if self.use_skip == True:\n",
    "                    x=layers.Add()([x, y])\n",
    "                    M=layers.Activation(self.activation_func)(x)\n",
    "                    M=layers.AveragePooling2D(pool_size=(2, 2), padding='same')(M)\n",
    "                    M=layers.Dropout(rate=self.drop_rate)(M)\n",
    "            if self.batch_norm == False:\n",
    "                z=layers.Conv2D(self.feature_maps[i], (3,3), padding='same')(M)\n",
    "                if self.use_skip == True:\n",
    "                    x=layers.Add()([x, z])\n",
    "                    M=layers.Activation(self.activation_func)(x)\n",
    "                    M=layers.AveragePooling2D(pool_size=(2, 2), padding='same')(M)\n",
    "                    M=layers.Dropout(rate=self.drop_rate)(M)\n",
    "        M=layers.Flatten()(M)\n",
    "        M=layers.Dense(self.num_classes, activation='softmax')(M)\n",
    "        self.model=M\n",
    "        self.model=tf.keras.Model(P,M)\n",
    "        self.model.compile(optimizer=self.optimizer, loss='sparse_categorical_crossentropy', metrics=['accuracy'])\n",
    "\n",
    "\n",
    "    def fit(self, data_manager, batch_size=None, num_epochs=None):\n",
    "        #insert your code here\n",
    "        y_train = tf.one_hot(data_manager.y_train, 10) \n",
    "        y_valid = tf.one_hot(data_manager.y_valid, 10) \n",
    "        y_test = tf.one_hot(data_manager.y_test, 10) \n",
    "        x_train = data_manager.X_train.astype('float32')\n",
    "        x_valid = data_manager.X_valid.astype('float32')\n",
    "        \n",
    "        train_ds_one = (\n",
    "            tf.data.Dataset.from_tensor_slices((x_train, y_train))\n",
    "            .shuffle(batch_size * 100)\n",
    "            .batch(batch_size)\n",
    "        )\n",
    "        train_ds_two = (\n",
    "            tf.data.Dataset.from_tensor_slices((x_train, y_train))\n",
    "            .shuffle(batch_size * 100)\n",
    "            .batch(batch_size)\n",
    "        )\n",
    "        \n",
    "        early_checkpoint = EarlyStopping(patience=3, monitor='val_accuracy', mode='auto')\n",
    "        callbacks = [early_checkpoint]\n",
    "        if self.is_augmentation == True: \n",
    "            datagen = ImageDataGenerator(horizontal_flip=True,\n",
    "                                         width_shift_range=0.1,height_shift_range=0.1,rotation_range=5,shear_range=0.1,zoom_range=0.1,fill_mode=\"nearest\")\n",
    "            batch_size = self.batch_size if batch_size is None else batch_size\n",
    "            num_epochs = self.num_epochs if num_epochs is None else num_epochs\n",
    "            self.model.compile(optimizer=self.optimizer, loss='sparse_categorical_crossentropy', metrics=['accuracy'])\n",
    "            self.history = self.model.fit(datagen.flow(x = data_manager.X_train, \n",
    "                                                       y = data_manager.y_train, \n",
    "                                                       batch_size = batch_size), validation_data=datagen.flow(data_manager.X_valid, data_manager.y_valid,\n",
    "                                                                       batch_size=batch_size),\n",
    "                                                       epochs = num_epochs, \n",
    "                                                       verbose= self.verbose,\n",
    "                                                       callbacks = callbacks)"
   ]
  },
  {
   "cell_type": "code",
   "execution_count": 85,
   "id": "3ba1250f",
   "metadata": {},
   "outputs": [
    {
     "name": "stdout",
     "output_type": "stream",
     "text": [
      "Epoch 1/20\n",
      "125/125 [==============================] - 16s 128ms/step - loss: 1.9971 - accuracy: 0.3195 - val_loss: 1.7452 - val_accuracy: 0.3720\n",
      "Epoch 2/20\n",
      "125/125 [==============================] - 16s 125ms/step - loss: 1.6043 - accuracy: 0.4400 - val_loss: 1.5548 - val_accuracy: 0.4400\n",
      "Epoch 3/20\n",
      "125/125 [==============================] - 16s 129ms/step - loss: 1.4520 - accuracy: 0.4967 - val_loss: 1.3601 - val_accuracy: 0.5360\n",
      "Epoch 4/20\n",
      "125/125 [==============================] - 16s 128ms/step - loss: 1.3207 - accuracy: 0.5335 - val_loss: 1.3442 - val_accuracy: 0.5500\n",
      "Epoch 5/20\n",
      "125/125 [==============================] - 16s 124ms/step - loss: 1.2317 - accuracy: 0.5667 - val_loss: 1.3525 - val_accuracy: 0.5300\n",
      "Epoch 6/20\n",
      "125/125 [==============================] - 16s 129ms/step - loss: 1.1560 - accuracy: 0.5978 - val_loss: 1.2570 - val_accuracy: 0.5920\n",
      "Epoch 7/20\n",
      "125/125 [==============================] - 16s 125ms/step - loss: 1.1165 - accuracy: 0.6133 - val_loss: 1.4322 - val_accuracy: 0.5180\n",
      "Epoch 8/20\n",
      "125/125 [==============================] - 16s 126ms/step - loss: 1.0402 - accuracy: 0.6357 - val_loss: 1.1267 - val_accuracy: 0.5980\n",
      "Epoch 9/20\n",
      "125/125 [==============================] - 16s 130ms/step - loss: 0.9805 - accuracy: 0.6622 - val_loss: 1.0813 - val_accuracy: 0.6120\n",
      "Epoch 10/20\n",
      "125/125 [==============================] - 16s 128ms/step - loss: 0.9307 - accuracy: 0.6770 - val_loss: 1.1975 - val_accuracy: 0.6000\n",
      "Epoch 11/20\n",
      "125/125 [==============================] - 16s 127ms/step - loss: 0.8714 - accuracy: 0.6960 - val_loss: 1.1851 - val_accuracy: 0.6220\n",
      "Epoch 12/20\n",
      "125/125 [==============================] - 16s 128ms/step - loss: 0.8599 - accuracy: 0.6998 - val_loss: 1.0728 - val_accuracy: 0.6660\n",
      "Epoch 13/20\n",
      "125/125 [==============================] - 16s 128ms/step - loss: 0.7765 - accuracy: 0.7312 - val_loss: 1.1851 - val_accuracy: 0.6120\n",
      "Epoch 14/20\n",
      "125/125 [==============================] - 16s 126ms/step - loss: 0.7533 - accuracy: 0.7437 - val_loss: 1.2223 - val_accuracy: 0.5880\n",
      "Epoch 15/20\n",
      "125/125 [==============================] - 16s 126ms/step - loss: 0.7384 - accuracy: 0.7520 - val_loss: 1.0622 - val_accuracy: 0.6480\n",
      "50/50 [==============================] - 1s 11ms/step - loss: 1.1762 - accuracy: 0.6220\n"
     ]
    },
    {
     "data": {
      "text/plain": [
       "0.621999979019165"
      ]
     },
     "execution_count": 85,
     "metadata": {},
     "output_type": "execute_result"
    }
   ],
   "source": [
    "Model_3 = YourModel(name='network1',\n",
    "                     feature_maps=32,\n",
    "                     num_classes=len(data_manager.classes),\n",
    "                     num_blocks=4,\n",
    "                     drop_rate= 0.0, \n",
    "                     batch_norm=True, \n",
    "                     use_skip = True,\n",
    "                     is_augmentation=True,\n",
    "                     optimizer='nadam',\n",
    "                     learning_rate= 0.001)\n",
    "Model_3.build_cnn()\n",
    "Model_3.fit(data_manager, batch_size=32, num_epochs=20)\n",
    "Model_3.compute_accuracy(data_manager.X_test, data_manager.y_test,10)"
   ]
  },
  {
   "cell_type": "markdown",
   "id": "e14a179d",
   "metadata": {},
   "source": [
    "<span style=\"color:red\">**Question 3.8**</span> **Attack your best obtained model with PGD, MIM, and FGSM attacks with $\\epsilon= 0.0313, k=20, \\eta= 0.002$ on the testing set. Write the code for the attacks and report the robust accuracies. Also choose a random set of 20 clean images in the testing set and visualize the original and attacked images.**\n",
    "   \n",
    "<div style=\"text-align: right\"> <span style=\"color:red\">[5 points]</span> </div>"
   ]
  },
  {
   "cell_type": "code",
   "execution_count": 86,
   "id": "2c671adc",
   "metadata": {},
   "outputs": [],
   "source": [
    "#Insert your code here. You can add more cells if necessary\n",
    "def plot_prediction1(model, X, y, classes, tile_shape=(5, 5)):\n",
    "        y_pred = model.predict(X)\n",
    "        plt.clf()\n",
    "        fig, ax = plt.subplots(tile_shape[0], tile_shape[1], figsize=(2.5 * tile_shape[1], 2.5 * tile_shape[0]))\n",
    "#         idx = np.random.choice(len(y_pred), tile_shape[0] * tile_shape[1])\n",
    "        idx = np.arange(tile_shape[0] * tile_shape[1])\n",
    "\n",
    "        for i in range(tile_shape[0]):\n",
    "            for j in range(tile_shape[1]):\n",
    "                ax[i, j].imshow((X[idx[i * tile_shape[1] + j]] + 1.0) / 2)\n",
    "                ax[i, j].set_title('{} (p: {})'.format(classes[y[idx[i * tile_shape[1] + j]]],\n",
    "                                                       classes[y_pred[idx[i * tile_shape[1] + j]]]))\n",
    "                ax[i, j].grid(False)\n",
    "                ax[i, j].axis('off')\n",
    "        plt.show()\n"
   ]
  },
  {
   "cell_type": "code",
   "execution_count": 87,
   "id": "16062a70",
   "metadata": {},
   "outputs": [],
   "source": [
    "class YourModel(DefaultModel):\n",
    "    def __init__(self,\n",
    "                 name='network1',\n",
    "                 width=32, height=32, depth=3,\n",
    "                 num_blocks=2,\n",
    "                 feature_maps=32,\n",
    "                 num_classes=4, \n",
    "                 drop_rate=0.2,\n",
    "                 batch_norm = None,\n",
    "                 is_augmentation = False,\n",
    "                 activation_func='relu',\n",
    "                 use_skip = True,\n",
    "                 optimizer='adam',\n",
    "                 batch_size=10,\n",
    "                 num_epochs= 20,\n",
    "                 learning_rate=0.0001):\n",
    "        super(YourModel, self).__init__(name, width, height, depth, num_blocks, feature_maps, num_classes, drop_rate, batch_norm, is_augmentation, \n",
    "                                        activation_func, use_skip, optimizer, batch_size, num_epochs, learning_rate)\n",
    "    \n",
    "    def build_cnn(self):\n",
    "        #reuse code of previous section here\n",
    "        P=Input(shape=(32, 32, 3))\n",
    "        A=Input(shape=(32, 32, 3))\n",
    "        for i in range(self.num_blocks):\n",
    "            if i==0:\n",
    "                M=layers.Conv2D(self.feature_maps[i], (3,3), padding='same')(P)\n",
    "                x=layers.Conv2D(self.feature_maps[i], (3,3), padding='same')(P)\n",
    "            if i!=0:\n",
    "                M=layers.Conv2D(self.feature_maps[i], (3,3), padding='same')(M)\n",
    "                x=layers.Conv2D(self.feature_maps[i], (3,3), padding='same')(M)\n",
    "            if self.batch_norm == True:\n",
    "                M=layers.BatchNormalization(momentum=0.9)(M)\n",
    "                M=layers.Activation(self.activation_func)(M)\n",
    "                M=layers.Conv2D(self.feature_maps[i], (3,3), padding='same')(M)\n",
    "            if self.batch_norm == True:\n",
    "                y=layers.BatchNormalization(momentum=0.9)(M)\n",
    "                M=layers.BatchNormalization(momentum=0.9)(M)\n",
    "                if self.use_skip == True:\n",
    "                    x=layers.Add()([x, y])\n",
    "                    M=layers.Activation(self.activation_func)(x)\n",
    "                    M=layers.AveragePooling2D(pool_size=(2, 2), padding='same')(M)\n",
    "                    M=layers.Dropout(rate=self.drop_rate)(M)\n",
    "            if self.batch_norm == False:\n",
    "                z=layers.Conv2D(self.feature_maps[i], (3,3), padding='same')(M)\n",
    "                if self.use_skip == True:\n",
    "                    x=layers.Add()([x, z])\n",
    "                    M=layers.Activation(self.activation_func)(x)\n",
    "                    M=layers.AveragePooling2D(pool_size=(2, 2), padding='same')(M)\n",
    "                    M=layers.Dropout(rate=self.drop_rate)(M)\n",
    "        M=layers.Flatten()(M)\n",
    "        M=layers.Dense(self.num_classes, activation='softmax')(M)\n",
    "        self.model=M\n",
    "        self.model=tf.keras.Model(P,M)\n",
    "        self.model.compile(optimizer=self.optimizer, loss='sparse_categorical_crossentropy', metrics=['accuracy'])\n"
   ]
  },
  {
   "cell_type": "code",
   "execution_count": 94,
   "id": "48a3da09",
   "metadata": {},
   "outputs": [
    {
     "ename": "ModuleNotFoundError",
     "evalue": "No module named 'cleverhans'",
     "output_type": "error",
     "traceback": [
      "\u001b[1;31m---------------------------------------------------------------------------\u001b[0m",
      "\u001b[1;31mModuleNotFoundError\u001b[0m                       Traceback (most recent call last)",
      "Input \u001b[1;32mIn [94]\u001b[0m, in \u001b[0;36m<cell line: 2>\u001b[1;34m()\u001b[0m\n\u001b[0;32m      1\u001b[0m model \u001b[38;5;241m=\u001b[39m tf\u001b[38;5;241m.\u001b[39mkeras\u001b[38;5;241m.\u001b[39mModel(Model_3\u001b[38;5;241m.\u001b[39mmodel\u001b[38;5;241m.\u001b[39minput,Model_3\u001b[38;5;241m.\u001b[39mmodel\u001b[38;5;241m.\u001b[39mlayers[\u001b[38;5;241m-\u001b[39m\u001b[38;5;241m2\u001b[39m]\u001b[38;5;241m.\u001b[39moutput)\n\u001b[1;32m----> 2\u001b[0m \u001b[38;5;28;01mfrom\u001b[39;00m \u001b[38;5;21;01mcleverhans\u001b[39;00m\u001b[38;5;21;01m.\u001b[39;00m\u001b[38;5;21;01mtf2\u001b[39;00m\u001b[38;5;21;01m.\u001b[39;00m\u001b[38;5;21;01mattacks\u001b[39;00m\u001b[38;5;21;01m.\u001b[39;00m\u001b[38;5;21;01mfast_gradient_method\u001b[39;00m \u001b[38;5;28;01mimport\u001b[39;00m fast_gradient_method\n\u001b[0;32m      3\u001b[0m \u001b[38;5;28;01mfrom\u001b[39;00m \u001b[38;5;21;01mcleverhans\u001b[39;00m\u001b[38;5;21;01m.\u001b[39;00m\u001b[38;5;21;01mtf2\u001b[39;00m\u001b[38;5;21;01m.\u001b[39;00m\u001b[38;5;21;01mattacks\u001b[39;00m\u001b[38;5;21;01m.\u001b[39;00m\u001b[38;5;21;01mprojected_gradient_descent\u001b[39;00m \u001b[38;5;28;01mimport\u001b[39;00m projected_gradient_descent\n\u001b[0;32m      4\u001b[0m \u001b[38;5;28;01mfrom\u001b[39;00m \u001b[38;5;21;01mcleverhans\u001b[39;00m\u001b[38;5;21;01m.\u001b[39;00m\u001b[38;5;21;01mtf2\u001b[39;00m\u001b[38;5;21;01m.\u001b[39;00m\u001b[38;5;21;01mattacks\u001b[39;00m\u001b[38;5;21;01m.\u001b[39;00m\u001b[38;5;21;01mmomentum_iterative_method\u001b[39;00m \u001b[38;5;28;01mimport\u001b[39;00m momentum_iterative_method\n",
      "\u001b[1;31mModuleNotFoundError\u001b[0m: No module named 'cleverhans'"
     ]
    }
   ],
   "source": [
    "model = tf.keras.Model(Model_3.model.input,Model_3.model.layers[-2].output)\n",
    "from cleverhans.tf2.attacks.fast_gradient_method import fast_gradient_method\n",
    "from cleverhans.tf2.attacks.projected_gradient_descent import projected_gradient_descent\n",
    "from cleverhans.tf2.attacks.momentum_iterative_method import momentum_iterative_method\n",
    "import numpy as np\n",
    "from sklearn.metrics import accuracy_score\n",
    "import matplotlib.pyplot as plt"
   ]
  },
  {
   "cell_type": "markdown",
   "id": "12b3ecf7",
   "metadata": {},
   "source": [
    "<span style=\"color:red\">**Question 3.9**</span> **Train a robust model using adversarial training with PGD ${\\epsilon= 0.0313, k=10, \\eta= 0.002}$. Write the code for the adversarial training and report the robust accuracies. After finishing the training, you need to store your best robust model in the folder `./models` and load the model to evaluate the robust accuracies for PGD, MIM, and FGSM attacks with $\\epsilon= 0.0313, k=20, \\eta= 0.002$ on the testing set.**\n",
    "   \n",
    "<div style=\"text-align: right\"> <span style=\"color:red\">[5 points]</span> </div>"
   ]
  },
  {
   "cell_type": "code",
   "execution_count": null,
   "id": "f47ccb33",
   "metadata": {},
   "outputs": [],
   "source": [
    "#Insert your code here. You can add more cells if necessary\n"
   ]
  },
  {
   "cell_type": "markdown",
   "id": "dbbfe441",
   "metadata": {},
   "source": [
    "The following is an exploring question with bonus points. It is great if you try to do this question, but it is **totally optional**. In this question, we will investigate a recent SOTA technique to improve the generalization ability of deep nets named *Sharpness-Aware Minimization (SAM)* ([link to the main paper](https://openreview.net/pdf?id=6Tm1mposlrM)).  Furthermore, SAM is simple and efficient technique, but roughly doubles the training time due to its required computation. If you have an idea to improve SAM, it would be a great paper to top-tier venues in machine learning and computer vision. Highly recommend to give it a try. "
   ]
  },
  {
   "cell_type": "markdown",
   "id": "ac4ab27d",
   "metadata": {},
   "source": [
    "<span style=\"color:red\">**Question 3.10**</span> (**additionally exploring question**) Read the SAM paper ([link to the main paper](https://openreview.net/pdf?id=6Tm1mposlrM)). Try to apply this techique to the best obtained model and report the results. For the purpose of implementating SAM, we can flexibly add more cells and extensions to the `model.py` file.\n",
    "\n",
    "<div style=\"text-align: right\"> <span style=\"color:red\">[5 points]</span> </div>"
   ]
  },
  {
   "cell_type": "code",
   "execution_count": null,
   "id": "aeaa9e2d",
   "metadata": {},
   "outputs": [],
   "source": [
    "#Insert your code here. You can add more cells if necessary"
   ]
  },
  {
   "cell_type": "code",
   "execution_count": null,
   "id": "f7d3a806",
   "metadata": {},
   "outputs": [],
   "source": []
  }
 ],
 "metadata": {
  "kernelspec": {
   "display_name": "Python 3 (ipykernel)",
   "language": "python",
   "name": "python3"
  },
  "language_info": {
   "codemirror_mode": {
    "name": "ipython",
    "version": 3
   },
   "file_extension": ".py",
   "mimetype": "text/x-python",
   "name": "python",
   "nbconvert_exporter": "python",
   "pygments_lexer": "ipython3",
   "version": "3.9.12"
  },
  "vscode": {
   "interpreter": {
    "hash": "1fc47f5f974acc00767629d3586483e6ef7e049a5ba24931faaed6b4b12a6745"
   }
  }
 },
 "nbformat": 4,
 "nbformat_minor": 5
}
